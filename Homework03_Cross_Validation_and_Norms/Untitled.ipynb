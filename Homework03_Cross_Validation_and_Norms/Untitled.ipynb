{
 "cells": [
  {
   "cell_type": "markdown",
   "metadata": {},
   "source": [
    "# Homework #3: Cross-Validation and Norms\n",
    "by Francisco Reveriano"
   ]
  },
  {
   "cell_type": "markdown",
   "metadata": {},
   "source": [
    "Cross-validation is used for both model selection and hyperparameter selection, to ensure the chosen model and/or hyperparameters(s) are not too highly tuned (\"overfit\") to the data. Here you are going to explore the impact of cross-validation to select a model to predict a car's price from its characteristics. "
   ]
  },
  {
   "cell_type": "code",
   "execution_count": 37,
   "metadata": {},
   "outputs": [],
   "source": [
    "import pandas as pd\n",
    "import numpy as np\n",
    "import matplotlib.pyplot as plt\n",
    "import seaborn as sns\n",
    "%matplotlib inline\n",
    "from tqdm.notebook import trange, tqdm\n",
    "from sklearn.linear_model import LinearRegression\n",
    "from sklearn.metrics import r2_score\n",
    "from sklearn.model_selection import KFold\n",
    "from sklearn.model_selection import cross_val_score"
   ]
  },
  {
   "cell_type": "markdown",
   "metadata": {
    "toc": true
   },
   "source": [
    "<h1>Table of Contents<span class=\"tocSkip\"></span></h1>\n",
    "<div class=\"toc\"><ul class=\"toc-item\"><li><span><a href=\"#Problem-1\" data-toc-modified-id=\"Problem-1-1\">Problem 1</a></span><ul class=\"toc-item\"><li><span><a href=\"#Reload-Data\" data-toc-modified-id=\"Reload-Data-1.1\">Reload Data</a></span></li><li><span><a href=\"#Problem-A\" data-toc-modified-id=\"Problem-A-1.2\">Problem A</a></span></li></ul></li></ul></div>"
   ]
  },
  {
   "cell_type": "markdown",
   "metadata": {},
   "source": [
    "## Problem 1\n",
    "\n",
    "Continuing with the 13 continous predictor variables from the Automobile Data Set from the UCI Machine Learning Respository that you used in Homework #2 to predict a car's price from its characteristics, you are going to further explore the 3 models you proposed in problem 2(a) in Homework #2. "
   ]
  },
  {
   "cell_type": "markdown",
   "metadata": {},
   "source": [
    "### Reload Data"
   ]
  },
  {
   "cell_type": "code",
   "execution_count": 38,
   "metadata": {},
   "outputs": [],
   "source": [
    "# The first part is reading the dataset. With Pandas I can treat the dataset as if it was a .csv file. \n",
    "data = pd.read_csv(\"imports-85.data\", header=None)\n",
    "\n",
    "# At this point the dataset has no header. It is easier for me to place a header to make it easier to choose columns\n",
    "headers = [\"symboling\",\"normalized-losses\",\"make\",\"fuel-type\",\"aspiration\", \"num-of-doors\",\"body-style\",\n",
    "         \"drive-wheels\",\"engine-location\",\"wheel-base\", \"length\",\"width\",\"height\",\"curb-weight\",\"engine-type\",\n",
    "         \"num-of-cylinders\", \"engine-size\",\"fuel-system\",\"bore\",\"stroke\",\"compression-ratio\",\"horsepower\",\n",
    "         \"peak-rpm\",\"city-mpg\",\"highway-mpg\",\"price\"]\n",
    "\n",
    "# We add the headers to the table to make it readable. \n",
    "data.columns = headers\n",
    "\n",
    "# We can see that there are 26 columns. This means that we need to delete them. And use only the columns we have been assigned. \n",
    "# So in other words we are dropping the columns using the panda drop command function. \n",
    "data = data.drop(columns=[\"symboling\", \"normalized-losses\", \"make\", \"fuel-type\", \"aspiration\", \n",
    "                          \"num-of-doors\", \"body-style\", \"drive-wheels\", \"engine-location\"\n",
    "                          ,\"engine-type\", \"num-of-cylinders\", \"fuel-system\"])\n",
    "\n",
    "# We now proceed to reformat the dataset by first turning all the '?' into 'NaN'\n",
    "data[\"price\"] = pd.to_numeric(data[\"price\"], errors='coerce')\n",
    "data[\"bore\"] = pd.to_numeric(data[\"bore\"], errors='coerce')\n",
    "data[\"stroke\"] = pd.to_numeric(data[\"stroke\"], errors='coerce')\n",
    "data[\"compression-ratio\"]= pd.to_numeric(data[\"compression-ratio\"], errors='coerce')\n",
    "data[\"horsepower\"]= pd.to_numeric(data[\"horsepower\"], errors='coerce')\n",
    "# We then proceed to drop the NaN\n",
    "data = data.dropna(subset=[\"price\"], axis = 0)\n",
    "#data = data.dropna(subset=[\"bore\"], axis= 0)\n",
    "data = data.dropna()\n",
    "\n",
    "# Make a copy of the model\n",
    "Model = data.copy()"
   ]
  },
  {
   "cell_type": "markdown",
   "metadata": {},
   "source": [
    "### Problem A\n",
    "\n",
    "Remind us what your proposed model #1 is (write down the equation price = f(features, w), with the parameters w unspecified). "
   ]
  },
  {
   "cell_type": "markdown",
   "metadata": {},
   "source": [
    "price = wheel-base + length + width + height + curb-weight + engine-size + bore + stroke + compression-ratio + horsepower + peak-rpm + city-mpg + highway-mpg"
   ]
  },
  {
   "cell_type": "code",
   "execution_count": 39,
   "metadata": {},
   "outputs": [
    {
     "name": "stdout",
     "output_type": "stream",
     "text": [
      "Regular Regression Model\n",
      "Intercept: -62068.15319037426\n",
      "Coefficients: [ 7.04671241e+01 -8.97337480e+01  6.20846258e+02  3.19938816e+02\n",
      "  1.71246392e+00  1.26674808e+02 -9.18710926e+02 -2.96297261e+03\n",
      "  2.39724757e+02  3.80152790e+01  2.08564561e+00 -3.08035124e+02\n",
      "  2.83956094e+02]\n"
     ]
    }
   ],
   "source": [
    "# Call Linear Regression\n",
    "Linear_Model_1 = LinearRegression()\n",
    "\n",
    "# We first set a new dataframe\n",
    "Model_1 = Model.copy()\n",
    "\n",
    "# Create the X Variables in our model\n",
    "X = Model_1[[\"wheel-base\", \"length\", \"width\", \"height\", \"curb-weight\", \"engine-size\", \"bore\", \"stroke\",\n",
    "               \"compression-ratio\", \"horsepower\", \"peak-rpm\", \"city-mpg\", \"highway-mpg\"]]\n",
    "\n",
    "# Create the Y Variable in our model\n",
    "Y = Model_1[\"price\"]\n",
    "\n",
    "# Now We Proceed to run the linear regression\n",
    "Linear_Model_1.fit(X,Y)\n",
    "\n",
    "print(\"Regular Regression Model\")\n",
    "print(\"Intercept:\", Linear_Model_1.intercept_)\n",
    "print(\"Coefficients:\", Linear_Model_1.coef_)"
   ]
  },
  {
   "cell_type": "markdown",
   "metadata": {},
   "source": [
    "For your proposed model #1, perform linear regression with 3-10-folds cross-validation (3 independent repetitions of 10-folds cross-validation) to evaluate the consistency in both the estimated model and the model performance. "
   ]
  },
  {
   "cell_type": "code",
   "execution_count": 41,
   "metadata": {},
   "outputs": [
    {
     "name": "stdout",
     "output_type": "stream",
     "text": [
      "[ 0.62206027 -0.19951547  0.80881162  0.86720684 -0.44829771  0.66247507\n",
      "  0.65921197 -0.5014665  -0.32265775  0.59960085]\n"
     ]
    }
   ],
   "source": [
    "#10 Folds Cross-Validation\n",
    "scores = cross_val_score(Linear_Model_1, X, Y, cv=10)\n",
    "print(scores)"
   ]
  },
  {
   "cell_type": "code",
   "execution_count": null,
   "metadata": {},
   "outputs": [],
   "source": []
  }
 ],
 "metadata": {
  "kernelspec": {
   "display_name": "Python 3",
   "language": "python",
   "name": "python3"
  },
  "language_info": {
   "codemirror_mode": {
    "name": "ipython",
    "version": 3
   },
   "file_extension": ".py",
   "mimetype": "text/x-python",
   "name": "python",
   "nbconvert_exporter": "python",
   "pygments_lexer": "ipython3",
   "version": "3.7.4"
  },
  "toc": {
   "base_numbering": 1,
   "nav_menu": {},
   "number_sections": false,
   "sideBar": true,
   "skip_h1_title": true,
   "title_cell": "Table of Contents",
   "title_sidebar": "Contents",
   "toc_cell": true,
   "toc_position": {
    "height": "calc(100% - 180px)",
    "left": "10px",
    "top": "150px",
    "width": "384px"
   },
   "toc_section_display": true,
   "toc_window_display": true
  }
 },
 "nbformat": 4,
 "nbformat_minor": 2
}
