{
 "cells": [
  {
   "cell_type": "markdown",
   "metadata": {},
   "source": [
    "# Homework #3: Cross-Validation and Norms\n",
    "\n",
    "by Francisco Reveriano\n"
   ]
  },
  {
   "cell_type": "code",
   "execution_count": 1,
   "metadata": {},
   "outputs": [],
   "source": [
    "import pandas as pd\n",
    "import numpy as np\n",
    "import matplotlib.pyplot as plt\n",
    "import seaborn as sns\n",
    "%matplotlib inline\n",
    "from tqdm.notebook import trange, tqdm\n",
    "from sklearn.linear_model import LinearRegression\n",
    "from sklearn.metrics import r2_score\n",
    "from sklearn.model_selection import KFold\n",
    "from sklearn.model_selection import cross_val_score\n",
    "from sklearn.metrics import mean_squared_error\n",
    "from sklearn.metrics import explained_variance_score\n",
    "import torch"
   ]
  },
  {
   "cell_type": "code",
   "execution_count": 2,
   "metadata": {},
   "outputs": [],
   "source": [
    "# Inherit Linear Data\n",
    "class linearRegression(torch.nn.Module):\n",
    "    def __init__(self, n_features):\n",
    "        super(linearRegression, self).__init__()\n",
    "        self.linear = torch.nn.Linear(in_features=n_features, out_features=1)\n",
    "\n",
    "    def forward(self, x):\n",
    "        return self.linear(x)\n",
    "\n",
    "# Read Data\n",
    "def read_data():\n",
    "    # The first part is reading the dataset. With Pandas I can treat the dataset as if it was a .csv file.\n",
    "    data = pd.read_csv(\"C:/Users/rever/Documents/Pattern_Recognition/Homework03_Cross_Validation_and_Norms/imports-85.data\", header=None)\n",
    "\n",
    "    # At this point the dataset has no header. It is easier for me to place a header to make it easier to choose columns\n",
    "    headers = [\"symboling\", \"normalized-losses\", \"make\", \"fuel-type\", \"aspiration\", \"num-of-doors\", \"body-style\",\n",
    "               \"drive-wheels\", \"engine-location\", \"wheel-base\", \"length\", \"width\", \"height\", \"curb-weight\",\n",
    "               \"engine-type\",\n",
    "               \"num-of-cylinders\", \"engine-size\", \"fuel-system\", \"bore\", \"stroke\", \"compression-ratio\", \"horsepower\",\n",
    "               \"peak-rpm\", \"city-mpg\", \"highway-mpg\", \"price\"]\n",
    "\n",
    "    # We add the headers to the table to make it readable.\n",
    "    data.columns = headers\n",
    "\n",
    "    # We can see that there are 26 columns. This means that we need to delete them. And use only the columns we have been assigned.\n",
    "    # So in other words we are dropping the columns using the panda drop command function.\n",
    "    data = data.drop(columns=[\"symboling\", \"normalized-losses\", \"make\", \"fuel-type\", \"aspiration\",\"num-of-doors\", \"body-style\", \"drive-wheels\", \"engine-location\",\"engine-type\", \"num-of-cylinders\", \"fuel-system\"])\n",
    "\n",
    "    # We now proceed to reformat the dataset by first turning all the '?' into 'NaN'\n",
    "    data[\"price\"] = pd.to_numeric(data[\"price\"], errors='coerce')\n",
    "    data[\"bore\"] = pd.to_numeric(data[\"bore\"], errors='coerce')\n",
    "    data[\"stroke\"] = pd.to_numeric(data[\"stroke\"], errors='coerce')\n",
    "    data[\"compression-ratio\"] = pd.to_numeric(data[\"compression-ratio\"], errors='coerce')\n",
    "    data[\"horsepower\"] = pd.to_numeric(data[\"horsepower\"], errors='coerce')\n",
    "    data[\"peak-rpm\"] = pd.to_numeric(data[\"peak-rpm\"], errors='coerce')\n",
    "    # We then proceed to drop the NaN\n",
    "    data = data.dropna(subset=[\"price\"], axis=0)\n",
    "    # data = data.dropna(subset=[\"bore\"], axis= 0)\n",
    "    data = data.dropna()\n",
    "\n",
    "    # Make a copy of the model\n",
    "    Model = data.copy()\n",
    "    return Model\n"
   ]
  },
  {
   "cell_type": "code",
   "execution_count": 3,
   "metadata": {},
   "outputs": [],
   "source": [
    "# Function Used to Find the Values of the Ensemble Model\n",
    "## The Ensemble Model is made from the 30 Folds \n",
    "def predict(X, X_Coefficient, Y_Coefficient):\n",
    "    value = np.dot(X, X_Coefficient) + Y_Coefficient\n",
    "    return value"
   ]
  },
  {
   "cell_type": "markdown",
   "metadata": {},
   "source": [
    "## Problem 1\n",
    "\n",
    "Continuing with the 13 continous predictor variables from the Automobile Data Set from the UCI Machine Learning Respository that you used in Homework #2 to predict a car's price from its characteristics, you are going to further explore the 3 models you proposed in problem 2(a) in Homework #2.\n"
   ]
  },
  {
   "cell_type": "markdown",
   "metadata": {},
   "source": [
    "### Part A"
   ]
  },
  {
   "cell_type": "markdown",
   "metadata": {},
   "source": [
    "The first model I propose is a sort of null model. Basically a model running all of the 13 features. With this model I can establish a baseline to compare the performance of models with smaller features.\n",
    "\n",
    "price = wheel-base + length + width + height + curb-weight + engine-size + bore + stroke + compression-ratio + horsepower + peak-rpm + city-mpg + highway-mpg\n"
   ]
  },
  {
   "cell_type": "code",
   "execution_count": 4,
   "metadata": {
    "scrolled": true
   },
   "outputs": [
    {
     "name": "stdout",
     "output_type": "stream",
     "text": [
      "Variance List: [0.8466853672008173, 0.8301562570410778, 0.8322236983861693, 0.827451112082614, 0.8307006057121596, 0.8252446806693045, 0.8340261138507079, 0.830376122955054, 0.8229721790409663, 0.8301681284985849, 0.8244421095012878, 0.8288650576472514, 0.8281592510039336, 0.8362031578526714, 0.8299944213706996, 0.8352890190508586, 0.8333278621777369, 0.8296898326658682, 0.8363121520471488, 0.8313765722911568, 0.8393166949462291, 0.8296904137741287, 0.8325014053953851, 0.819369708838036, 0.8393522260026686, 0.8299512551471321, 0.8284513643102298, 0.8340554489942618, 0.8254147837107018, 0.8368273184869411]\n"
     ]
    }
   ],
   "source": [
    "# We first set a new dataframe\n",
    "Model = read_data()\n",
    "\n",
    "# Create the X Variables in our model\n",
    "X = Model[[\"wheel-base\", \"length\", \"width\", \"height\", \"curb-weight\", \"engine-size\", \"bore\", \"stroke\",\n",
    "          \"compression-ratio\", \"horsepower\", \"peak-rpm\", \"city-mpg\", \"highway-mpg\"]]    \n",
    "\n",
    "# Create the Y Variable in our model\n",
    "Y = Model[\"price\"]\n",
    "\n",
    "# Set Up The K-Folds\n",
    "K = 10\n",
    "kf = KFold(n_splits=10, shuffle=True)\n",
    "\n",
    "# Set Up Linear Regression\n",
    "Linear_Model = LinearRegression()\n",
    "\n",
    "MSE_List = []\n",
    "Variance_List = []\n",
    "Weights_List = []\n",
    "Y_Coefficients = []\n",
    "for i in range(3):\n",
    "    for train_index, test_index in kf.split(X):\n",
    "        # Split the Dataset\n",
    "        x_train, x_test = X.iloc[train_index], X.iloc[test_index]\n",
    "        y_train, y_test = Y.iloc[train_index], Y.iloc[test_index]\n",
    "        \n",
    "        # Set Up Linear Regression Model\n",
    "        Linear_Model.fit(x_train, y_train)\n",
    "        \n",
    "        # Linear Regression Coefficient\n",
    "        Weights_List.append(Linear_Model.coef_)\n",
    "\n",
    "        # Linear Regression Y Coefficient\n",
    "        Y_Coefficients.append(Linear_Model.intercept_)\n",
    "        \n",
    "        # Linear Model Predict\n",
    "        y_hat = Linear_Model.predict(x_test)\n",
    "        \n",
    "        # Calculate Variance of the whole model using the whole dataset\n",
    "        y_hat2 = Linear_Model.predict(X)\n",
    "        var_score = explained_variance_score(y_hat2, Y)\n",
    "        Variance_List.append(var_score)\n",
    "        \n",
    "        ## Now I can calculate the MSE using Scikit Learning\n",
    "        MSE = mean_squared_error(y_test, y_hat)\n",
    "        MSE_List.append(MSE)\n",
    "\n",
    "print(\"Variance List:\", Variance_List)"
   ]
  },
  {
   "cell_type": "code",
   "execution_count": 5,
   "metadata": {},
   "outputs": [
    {
     "name": "stdout",
     "output_type": "stream",
     "text": [
      "Number of models: 30\n",
      "Coefficient of the Model\n",
      "[ 7.04052430e+01 -8.82902455e+01  6.17475164e+02  3.17338633e+02\n",
      "  1.68160788e+00  1.26870892e+02 -9.58662216e+02 -2.99892298e+03\n",
      "  2.42749017e+02  3.83572358e+01  2.08450239e+00 -3.08892202e+02\n",
      "  2.84467679e+02]\n",
      "Y Coefficient -61703.12452792038\n"
     ]
    }
   ],
   "source": [
    "# Lets Arrange the Ensemble Model\n",
    "print(\"Number of models:\", len(Variance_List))\n",
    "\n",
    "# Coefficient of Model\n",
    "coefficients = np.mean(Weights_List, axis=0)\n",
    "print(\"Coefficient of the Model\")\n",
    "print(coefficients)\n",
    "\n",
    "# Y Coefficient\n",
    "y_coefficient = np.mean(Y_Coefficients)\n",
    "print(\"Y Coefficient\", y_coefficient)"
   ]
  },
  {
   "cell_type": "code",
   "execution_count": 6,
   "metadata": {},
   "outputs": [],
   "source": [
    "predictions = predict(X.values, coefficients,y_coefficient)"
   ]
  },
  {
   "cell_type": "markdown",
   "metadata": {},
   "source": [
    "#### Part i \n",
    "\n",
    "Plot a kernel density estimate for the mean square error (MSE) for this model? "
   ]
  },
  {
   "cell_type": "code",
   "execution_count": 7,
   "metadata": {},
   "outputs": [
    {
     "name": "stdout",
     "output_type": "stream",
     "text": [
      "Length of MSE: 30\n"
     ]
    },
    {
     "data": {
      "text/plain": [
       "Text(0.5, 1.0, 'KDE Plot of Model 1')"
      ]
     },
     "execution_count": 7,
     "metadata": {},
     "output_type": "execute_result"
    },
    {
     "data": {
      "image/png": "[encoded data removed]",
      "text/plain": [
       "<Figure size 432x288 with 1 Axes>"
      ]
     },
     "metadata": {
      "needs_background": "light"
     },
     "output_type": "display_data"
    }
   ],
   "source": [
    "# Make sure MSE List is 30\n",
    "print(\"Length of MSE:\", len(MSE_List))\n",
    "\n",
    "# Plot KDE of MSE\n",
    "sns.distplot(MSE_List, kde=True, rug=True)\n",
    "plt.title(\"KDE Plot of Model 1\")"
   ]
  },
  {
   "cell_type": "code",
   "execution_count": 8,
   "metadata": {},
   "outputs": [
    {
     "name": "stdout",
     "output_type": "stream",
     "text": [
      "MSE: [28600797.696856506, 8240849.4790999945, 8948874.861558005, 16527225.723222345, 10927227.86331924, 9113236.652229724, 4155650.652863499, 7650907.31689811, 17578673.68821151, 7132521.154024166, 21808048.34046503, 9469298.423960943, 9821266.16878917, 12050079.688367976, 5085917.951045586, 4585606.482893937, 3729622.6721304874, 4281243.727033949, 31398648.718287833, 9728904.805168906, 19722388.564371593, 6340415.850903096, 5188624.992100214, 10802899.21357812, 15964666.022935858, 15900753.6766346, 6794670.095818016, 11454877.11374535, 13241601.650245754, 6288994.552721418]\n"
     ]
    }
   ],
   "source": [
    "print(\"MSE:\",MSE_List)"
   ]
  },
  {
   "cell_type": "markdown",
   "metadata": {},
   "source": [
    "#### Part ii\n",
    "\n",
    "What is E[MSE] for this model? "
   ]
  },
  {
   "cell_type": "code",
   "execution_count": 9,
   "metadata": {},
   "outputs": [
    {
     "name": "stdout",
     "output_type": "stream",
     "text": [
      "Expected Average: 11417816.459982699\n",
      "Ensemble Model: 9240857.698518133\n"
     ]
    }
   ],
   "source": [
    "# From the 30 MSE Values\n",
    "Expected_Value = np.average(MSE_List)\n",
    "print(\"Expected Average:\", Expected_Value)\n",
    "\n",
    "# From MSE From the Ensemble Model\n",
    "## Still an Insane Number\n",
    "MSE_Ensemble_Model = mean_squared_error(predictions,Y.values)\n",
    "print(\"Ensemble Model:\", MSE_Ensemble_Model)"
   ]
  },
  {
   "cell_type": "markdown",
   "metadata": {},
   "source": [
    "#### Part iii\n",
    "\n",
    "Compute the variance for this model. "
   ]
  },
  {
   "cell_type": "code",
   "execution_count": 10,
   "metadata": {},
   "outputs": [
    {
     "name": "stdout",
     "output_type": "stream",
     "text": [
      "Expected Variance 0.8312864773550594\n",
      "Variance Ensemble Model: 0.833255028259325\n"
     ]
    }
   ],
   "source": [
    "# My variance of the model is calculated using the SCKLEARN Variance Calculation of model\n",
    "# Since this model ran 30 times effectively. This is the average variance of each of the 30 models. \n",
    "Expected_Variance = np.average(Variance_List)\n",
    "print(\"Expected Variance\", Expected_Variance)\n",
    "\n",
    "## Calculate the Variance Of Ensembe Model \n",
    "Variance_Ensemble_Model = explained_variance_score(predictions, Y.values)\n",
    "print(\"Variance Ensemble Model:\", Variance_Ensemble_Model)"
   ]
  },
  {
   "cell_type": "markdown",
   "metadata": {},
   "source": [
    "#### Part iv\n",
    "\n",
    "Find the (bias)^2 + noise variance for this model, assuming E[MSE] is a good approximation for MSE. "
   ]
  },
  {
   "cell_type": "code",
   "execution_count": 11,
   "metadata": {},
   "outputs": [
    {
     "name": "stdout",
     "output_type": "stream",
     "text": [
      "Bias^2 + Noise Variance: 11417815.628696222\n"
     ]
    }
   ],
   "source": [
    "# Calculate Using the Formula\n",
    "## Value Needs to be Normalized  to make sense\n",
    "bias_squared_noise_variance = Expected_Value - Expected_Variance\n",
    "print(\"Bias^2 + Noise Variance:\", bias_squared_noise_variance)"
   ]
  },
  {
   "cell_type": "markdown",
   "metadata": {},
   "source": [
    "#### Part v\n",
    "What is your impression of the variance of this model versus the (bias)^2 + noise variance for this model? "
   ]
  },
  {
   "cell_type": "markdown",
   "metadata": {},
   "source": [
    "### Part B\n",
    "\n",
    "The second model would be the least feature model. Meaning that for this model I would try to use the least amount of features. The features chosen are comming directly from correlation. So this model is at the very low range of the spectrum. And I am dropping features that did not show any correlation with price or anything else in the previous exercises.\n",
    "price = curb-weight + horsepower + city-mpg"
   ]
  },
  {
   "cell_type": "code",
   "execution_count": 12,
   "metadata": {},
   "outputs": [
    {
     "name": "stdout",
     "output_type": "stream",
     "text": [
      "Variance List: [0.7099892353631473, 0.7156290583928102, 0.7218780992278504, 0.7269831241090559, 0.7223258744048653, 0.7245683724409298, 0.6922145598036789, 0.7207047000173146, 0.7053467986612179, 0.720925637207632, 0.7214173486170347, 0.6988379923262313, 0.7288622896104977, 0.7176552970895798, 0.7081549639815768, 0.6909478141297047, 0.7290364772177111, 0.7217263968172647, 0.7127004790397269, 0.7281784947041863, 0.7129257058232497, 0.7114987827785402, 0.7162725026465652, 0.7033314830740218, 0.7311803660355404, 0.7340261440636914, 0.7176625491332256, 0.7038631794856325, 0.7204093983875637, 0.7115947432767338]\n"
     ]
    }
   ],
   "source": [
    "# We first set a new dataframe\n",
    "Model = read_data()\n",
    "\n",
    "# Create the X Variables in our model\n",
    "X = Model[[\"curb-weight\", \"horsepower\", \"city-mpg\"]]   \n",
    "\n",
    "# Create the Y Variable in our model\n",
    "Y = Model[\"price\"]\n",
    "\n",
    "# Set Up The K-Folds\n",
    "K = 10\n",
    "kf = KFold(n_splits=10, shuffle=True)\n",
    "\n",
    "# Set Up Linear Regression\n",
    "Linear_Model = LinearRegression()\n",
    "\n",
    "MSE_List = []\n",
    "Variance_List = []\n",
    "Weights_List = []\n",
    "Y_Coefficients = []\n",
    "for i in range(3):\n",
    "    for train_index, test_index in kf.split(X):\n",
    "        # Split the Dataset\n",
    "        x_train, x_test = X.iloc[train_index], X.iloc[test_index]\n",
    "        y_train, y_test = Y.iloc[train_index], Y.iloc[test_index]\n",
    "        \n",
    "        # Set Up Linear Regression Model\n",
    "        Linear_Model.fit(x_train, y_train)\n",
    "        \n",
    "        # Linear Regression Coefficient\n",
    "        Weights_List.append(Linear_Model.coef_)\n",
    "\n",
    "        # Linear Regression Y Coefficient\n",
    "        Y_Coefficients.append(Linear_Model.intercept_)\n",
    "        \n",
    "        # Linear Model Predict\n",
    "        y_hat = Linear_Model.predict(x_test)\n",
    "        \n",
    "        # Calculate Variance of the whole model using the whole dataset\n",
    "        y_hat2 = Linear_Model.predict(X)\n",
    "        var_score = explained_variance_score(y_hat2, Y)\n",
    "        Variance_List.append(var_score)\n",
    "        \n",
    "        ## Now I can calculate the MSE using Scikit Learning\n",
    "        MSE = mean_squared_error(y_test, y_hat)\n",
    "        MSE_List.append(MSE)\n",
    "\n",
    "print(\"Variance List:\", Variance_List)"
   ]
  },
  {
   "cell_type": "code",
   "execution_count": 13,
   "metadata": {},
   "outputs": [
    {
     "name": "stdout",
     "output_type": "stream",
     "text": [
      "Number of models: 30\n",
      "Coefficient of the Model\n",
      "[  8.85027151 110.29855193 220.45611328]\n",
      "Y Coefficient -26385.651049920278\n"
     ]
    }
   ],
   "source": [
    "# Lets Arrange the Ensemble Model\n",
    "print(\"Number of models:\", len(Variance_List))\n",
    "\n",
    "# Coefficient of Model\n",
    "coefficients = np.mean(Weights_List, axis=0)\n",
    "print(\"Coefficient of the Model\")\n",
    "print(coefficients)\n",
    "\n",
    "# Y Coefficient\n",
    "y_coefficient = np.mean(Y_Coefficients)\n",
    "print(\"Y Coefficient\", y_coefficient)\n",
    "\n",
    "# Calculate Predictions\n",
    "predictions = predict(X.values, coefficients,y_coefficient)"
   ]
  },
  {
   "cell_type": "markdown",
   "metadata": {},
   "source": [
    "#### Part i\n",
    "\n",
    "Plot a kernel density estimate for the mean square error (MSE) for this model? "
   ]
  },
  {
   "cell_type": "code",
   "execution_count": 14,
   "metadata": {},
   "outputs": [
    {
     "name": "stdout",
     "output_type": "stream",
     "text": [
      "Length of MSE: 30\n",
      "MSE List [22741190.700040463, 8341323.83680281, 8568296.77463116, 13829858.821480518, 12831966.006258367, 11878687.770570045, 29416526.061673697, 9887299.696701147, 27277060.0909376, 4936559.4140208205, 11169727.782572936, 14223203.085923772, 20464363.594401557, 8194439.325816451, 14872088.379526287, 24563789.539432857, 20016298.63056854, 14138421.895710468, 12673616.52899414, 11689065.347711982, 15513351.80139094, 16051801.282920867, 18380193.506200764, 21723652.147827677, 12825122.041806327, 13726112.914114943, 4672735.138698098, 25808779.752728697, 8409527.708666654, 10511889.97422775]\n"
     ]
    },
    {
     "data": {
      "image/png": "[encoded data removed]",
      "text/plain": [
       "<Figure size 432x288 with 1 Axes>"
      ]
     },
     "metadata": {
      "needs_background": "light"
     },
     "output_type": "display_data"
    }
   ],
   "source": [
    "# Make sure MSE List is 30\n",
    "print(\"Length of MSE:\", len(MSE_List))\n",
    "\n",
    "# Plot KDE of MSE\n",
    "sns.distplot(MSE_List, kde=True, rug=True)\n",
    "plt.title(\"KDE Plot of Model 1\")\n",
    "\n",
    "# Print MSE List\n",
    "print(\"MSE List\", MSE_List)"
   ]
  },
  {
   "cell_type": "markdown",
   "metadata": {},
   "source": [
    "#### Part ii\n",
    "What is E[MSE] for this model? "
   ]
  },
  {
   "cell_type": "code",
   "execution_count": 15,
   "metadata": {},
   "outputs": [
    {
     "name": "stdout",
     "output_type": "stream",
     "text": [
      "Expected Average: 14977898.318411944\n",
      "Ensemble Model: 14236373.77221117\n"
     ]
    }
   ],
   "source": [
    "# From the 30 MSE Values\n",
    "Expected_Value = np.average(MSE_List)\n",
    "print(\"Expected Average:\", Expected_Value)\n",
    "\n",
    "# From MSE From the Ensemble Model\n",
    "## Still an Insane Number\n",
    "MSE_Ensemble_Model = mean_squared_error(predictions,Y.values)\n",
    "print(\"Ensemble Model:\", MSE_Ensemble_Model)"
   ]
  },
  {
   "cell_type": "markdown",
   "metadata": {},
   "source": [
    "#### Part iii\n",
    "Compute the variance for this model."
   ]
  },
  {
   "cell_type": "code",
   "execution_count": 16,
   "metadata": {},
   "outputs": [
    {
     "name": "stdout",
     "output_type": "stream",
     "text": [
      "Expected Variance 0.716028262262226\n",
      "Variance Ensemble Model: 0.7168895076977153\n"
     ]
    }
   ],
   "source": [
    "# My variance of the model is calculated using the SCKLEARN Variance Calculation of model\n",
    "# Since this model ran 30 times effectively. This is the average variance of each of the 30 models. \n",
    "Expected_Variance = np.average(Variance_List)\n",
    "print(\"Expected Variance\", Expected_Variance)\n",
    "\n",
    "## Calculate the Variance Of Ensembe Model \n",
    "Variance_Ensemble_Model = explained_variance_score(predictions, Y.values)\n",
    "print(\"Variance Ensemble Model:\", Variance_Ensemble_Model)"
   ]
  },
  {
   "cell_type": "markdown",
   "metadata": {},
   "source": [
    "#### Part iv\n",
    "Find the (bias)^2 + noise variance for this model, assuming E[MSE] is a good approximation for MSE."
   ]
  },
  {
   "cell_type": "code",
   "execution_count": 17,
   "metadata": {},
   "outputs": [
    {
     "name": "stdout",
     "output_type": "stream",
     "text": [
      "Bias^2 + Noise Variance: 14977897.602383683\n"
     ]
    }
   ],
   "source": [
    "# Calculate Using the Formula\n",
    "## Value Needs to be Normalized  to make sense\n",
    "bias_squared_noise_variance = Expected_Value - Expected_Variance\n",
    "print(\"Bias^2 + Noise Variance:\", bias_squared_noise_variance)"
   ]
  },
  {
   "cell_type": "markdown",
   "metadata": {},
   "source": [
    "#### Part v¶\n",
    "What is your impression of the variance of this model versus the (bias)^2 + noise variance for this model? "
   ]
  },
  {
   "cell_type": "markdown",
   "metadata": {},
   "source": [
    "### Part C\n",
    "The third model would be a more balanced model. I would try to drop some features but include a few more that were in the medium correlation levels. This should be a more balanced model that is probably closer to what Lasso or PCA would tell me to do.\n",
    "\n",
    "price = length + curb-weight + engine-size + horsepower + city-mpg + compression-ratio\n",
    "\n",
    "\n",
    "The third model would be a more balanced model. I would try to drop some features but include a few more that were in the medium correlation levels. This should be a more balanced model that is probably closer to what Lasso or PCA would tell me to do.\n",
    "price = length + curb-weight + engine-size + horsepower + city-mpg + compression-ratio"
   ]
  },
  {
   "cell_type": "code",
   "execution_count": 18,
   "metadata": {},
   "outputs": [
    {
     "name": "stdout",
     "output_type": "stream",
     "text": [
      "Variance List: [0.7842356394438084, 0.8010188428823735, 0.7855931358648746, 0.7840344177652316, 0.790694822273487, 0.7820500032048475, 0.7948350665793161, 0.7758801107919909, 0.7902195112342134, 0.7880218638134029, 0.77772794407883, 0.7931778446071105, 0.7927980316445927, 0.7876080108597253, 0.7835452913096006, 0.7806258573875025, 0.788817591783268, 0.8040422761259247, 0.7861262345083709, 0.7787681104306965, 0.7959973793100539, 0.7833268266927073, 0.7907394311280949, 0.7712263788944407, 0.7901371593965788, 0.7829551841738638, 0.7858972421176487, 0.7928409143712467, 0.7913006234409483, 0.7898928910761481]\n"
     ]
    }
   ],
   "source": [
    "# We first set a new dataframe\n",
    "Model = read_data()\n",
    "\n",
    "# Create the X Variables in our model\n",
    "X = Model[[\"length\", \"curb-weight\", \"engine-size\", \"horsepower\", \"city-mpg\", \"compression-ratio\"]]\n",
    "\n",
    "# Create the Y Variable in our model\n",
    "Y = Model[\"price\"]\n",
    "\n",
    "K = 10\n",
    "kf = KFold(n_splits=10, shuffle=True)\n",
    "\n",
    "# Set Up Linear Regression\n",
    "Linear_Model = LinearRegression()\n",
    "\n",
    "MSE_List = []\n",
    "Variance_List = []\n",
    "Weights_List = []\n",
    "Y_Coefficients = []\n",
    "for i in range(3):\n",
    "    for train_index, test_index in kf.split(X):\n",
    "        # Split the Dataset\n",
    "        x_train, x_test = X.iloc[train_index], X.iloc[test_index]\n",
    "        y_train, y_test = Y.iloc[train_index], Y.iloc[test_index]\n",
    "        \n",
    "        # Set Up Linear Regression Model\n",
    "        Linear_Model.fit(x_train, y_train)\n",
    "        \n",
    "        # Linear Regression Coefficient\n",
    "        Weights_List.append(Linear_Model.coef_)\n",
    "\n",
    "        # Linear Regression Y Coefficient\n",
    "        Y_Coefficients.append(Linear_Model.intercept_)\n",
    "        \n",
    "        # Linear Model Predict\n",
    "        y_hat = Linear_Model.predict(x_test)\n",
    "        \n",
    "        # Calculate Variance of the whole model using the whole dataset\n",
    "        y_hat2 = Linear_Model.predict(X)\n",
    "        var_score = explained_variance_score(y_hat2, Y)\n",
    "        Variance_List.append(var_score)\n",
    "        \n",
    "        ## Now I can calculate the MSE using Scikit Learning\n",
    "        MSE = mean_squared_error(y_test, y_hat)\n",
    "        MSE_List.append(MSE)\n",
    "\n",
    "print(\"Variance List:\", Variance_List)"
   ]
  },
  {
   "cell_type": "code",
   "execution_count": 19,
   "metadata": {},
   "outputs": [
    {
     "name": "stdout",
     "output_type": "stream",
     "text": [
      "Number of models: 30\n",
      "Coefficient of the Model\n",
      "[ 38.78493754   1.66544629 101.12915003  53.13483775 -38.90716554\n",
      " 186.57191441]\n",
      "Y Coefficient -17115.549288940572\n"
     ]
    }
   ],
   "source": [
    "# Lets Arrange the Ensemble Model\n",
    "print(\"Number of models:\", len(Variance_List))\n",
    "\n",
    "# Coefficient of Model\n",
    "coefficients = np.mean(Weights_List, axis=0)\n",
    "print(\"Coefficient of the Model\")\n",
    "print(coefficients)\n",
    "\n",
    "# Y Coefficient\n",
    "y_coefficient = np.mean(Y_Coefficients)\n",
    "print(\"Y Coefficient\", y_coefficient)\n",
    "\n",
    "# Calculate Predictions\n",
    "predictions = predict(X.values, coefficients,y_coefficient)"
   ]
  },
  {
   "cell_type": "markdown",
   "metadata": {},
   "source": [
    "#### Part i\n",
    "Plot a kernel density estimate for the mean square error (MSE) for this model? "
   ]
  },
  {
   "cell_type": "code",
   "execution_count": 20,
   "metadata": {},
   "outputs": [
    {
     "name": "stdout",
     "output_type": "stream",
     "text": [
      "Length of MSE: 30\n",
      "MSE List [9762129.622294541, 12730649.408674859, 18462118.334483206, 11046406.730986906, 10149603.007768983, 15430892.053089136, 14648402.105001355, 18364625.15094428, 8942880.399114344, 4114900.2870087554, 23214034.85728061, 8777495.19694696, 11972238.946807198, 4608546.042222576, 11385324.7811541, 11028800.775884587, 5314215.701633425, 19260773.240362797, 4082380.510710881, 26789044.71389684, 12803597.107104655, 8658402.521859046, 5204579.385121449, 21431149.18874717, 14780116.279988881, 11682291.325689984, 5495640.885869761, 8799935.511528626, 14010204.139983842, 19739794.12989521]\n"
     ]
    },
    {
     "data": {
      "image/png": "[encoded data removed]",
      "text/plain": [
       "<Figure size 432x288 with 1 Axes>"
      ]
     },
     "metadata": {
      "needs_background": "light"
     },
     "output_type": "display_data"
    }
   ],
   "source": [
    "# Make sure MSE List is 30\n",
    "print(\"Length of MSE:\", len(MSE_List))\n",
    "\n",
    "# Plot KDE of MSE\n",
    "sns.distplot(MSE_List, kde=True, rug=True)\n",
    "plt.title(\"KDE Plot of Model 1\")\n",
    "\n",
    "# Print MSE List\n",
    "print(\"MSE List\", MSE_List)"
   ]
  },
  {
   "cell_type": "markdown",
   "metadata": {},
   "source": [
    "#### Part ii\n",
    "What is E[MSE] for this model? "
   ]
  },
  {
   "cell_type": "code",
   "execution_count": 21,
   "metadata": {},
   "outputs": [
    {
     "name": "stdout",
     "output_type": "stream",
     "text": [
      "Expected Average: 12423039.078068499\n",
      "Ensemble Model: 11274859.636667736\n"
     ]
    }
   ],
   "source": [
    "# From the 30 MSE Values\n",
    "Expected_Value = np.average(MSE_List)\n",
    "print(\"Expected Average:\", Expected_Value)\n",
    "\n",
    "# From MSE From the Ensemble Model\n",
    "## Still an Insane Number\n",
    "MSE_Ensemble_Model = mean_squared_error(predictions,Y.values)\n",
    "print(\"Ensemble Model:\", MSE_Ensemble_Model)"
   ]
  },
  {
   "cell_type": "markdown",
   "metadata": {},
   "source": [
    "#### Part iii\n",
    "Compute the variance for this model."
   ]
  },
  {
   "cell_type": "code",
   "execution_count": 22,
   "metadata": {},
   "outputs": [
    {
     "name": "stdout",
     "output_type": "stream",
     "text": [
      "Expected Variance 0.78747115457303\n",
      "Variance Ensemble Model: 0.7885560803690719\n"
     ]
    }
   ],
   "source": [
    "# My variance of the model is calculated using the SCKLEARN Variance Calculation of model\n",
    "# Since this model ran 30 times effectively. This is the average variance of each of the 30 models. \n",
    "Expected_Variance = np.average(Variance_List)\n",
    "print(\"Expected Variance\", Expected_Variance)\n",
    "\n",
    "## Calculate the Variance Of Ensembe Model \n",
    "Variance_Ensemble_Model = explained_variance_score(predictions, Y.values)\n",
    "print(\"Variance Ensemble Model:\", Variance_Ensemble_Model)"
   ]
  },
  {
   "cell_type": "markdown",
   "metadata": {},
   "source": [
    "#### Part iv\n",
    "Find the (bias)^2 + noise variance for this model, assuming E[MSE] is a good approximation for MSE."
   ]
  },
  {
   "cell_type": "code",
   "execution_count": 23,
   "metadata": {},
   "outputs": [
    {
     "name": "stdout",
     "output_type": "stream",
     "text": [
      "Bias^2 + Noise Variance: 12423038.290597344\n"
     ]
    }
   ],
   "source": [
    "# Calculate Using the Formula\n",
    "## Value Needs to be Normalized  to make sense\n",
    "bias_squared_noise_variance = Expected_Value - Expected_Variance\n",
    "print(\"Bias^2 + Noise Variance:\", bias_squared_noise_variance)"
   ]
  },
  {
   "cell_type": "markdown",
   "metadata": {},
   "source": [
    "#### Part v\n",
    "What is your impression of the variance of this model versus the (bias)^2 + noise variance for this model? "
   ]
  },
  {
   "cell_type": "markdown",
   "metadata": {},
   "source": [
    "## Problem 2"
   ]
  },
  {
   "cell_type": "markdown",
   "metadata": {},
   "source": [
    "### Part A"
   ]
  },
  {
   "cell_type": "markdown",
   "metadata": {},
   "source": [
    "The first model I propose is a sort of null model. Basically a model running all of the 13 features. With this model I can establish a baseline to compare the performance of models with smaller features.\n",
    "\n",
    "price = wheel-base + length + width + height + curb-weight + engine-size + bore + stroke + compression-ratio + horsepower + peak-rpm + city-mpg + highway-mpg"
   ]
  },
  {
   "cell_type": "code",
   "execution_count": 24,
   "metadata": {},
   "outputs": [
    {
     "name": "stdout",
     "output_type": "stream",
     "text": [
      "Shape of X: (195, 13)\n",
      "[20385206.97952615, 13810179.049228573, 28524520.333200503, 32313540.61318612, 39059232.69870677, 8355544.5444732085, 6797306.669246472, 42752181.22698901, 69690705.2845834, 8240886.279845141, 33658025.85399933, 41982176.75705383, 14875954.111363947, 27597200.120437242, 7719659.125580025, 22425380.62324569, 46596858.11284582, 29028109.15229545, 33413368.83677402, 13268600.524981435, 38507427.47064556, 37109643.40205989, 23665538.595508326, 42274424.218062624, 15556453.917538786, 7299628.231394855, 5152716.799023114, 30138959.270879358, 59769700.58778491, 8265272.322214365]\n"
     ]
    }
   ],
   "source": [
    "# We first set a new dataframe\n",
    "Model = read_data()\n",
    "Model2 = read_data()\n",
    "\n",
    "# Create the X Variables in our model\n",
    "X = Model[[\"wheel-base\", \"length\", \"width\", \"height\", \"curb-weight\", \"engine-size\", \"bore\", \"stroke\",\n",
    "          \"compression-ratio\", \"horsepower\", \"peak-rpm\", \"city-mpg\", \"highway-mpg\"]]    \n",
    "X2 = Model2[[\"wheel-base\", \"length\", \"width\", \"height\", \"curb-weight\", \"engine-size\", \"bore\", \"stroke\",\n",
    "          \"compression-ratio\", \"horsepower\", \"peak-rpm\", \"city-mpg\", \"highway-mpg\"]]    \n",
    "\n",
    "print(\"Shape of X:\",X.shape)\n",
    "\n",
    "# Create the Y Variable in our model\n",
    "Y = Model[\"price\"]\n",
    "Y2 = Model2[\"price\"]\n",
    "\n",
    "\n",
    "# Set Up The K-Folds\n",
    "K = 10\n",
    "kf = KFold(n_splits=10, shuffle=True)\n",
    "\n",
    "MSE_List = []\n",
    "Variance_List = []\n",
    "Weights_List = []\n",
    "Y_Coefficients = []\n",
    "Weights_List = []\n",
    "Y_Coefficients = []\n",
    "for i in range(3):\n",
    "    for train_index, test_index in kf.split(X):\n",
    "        # Split the Dataset\n",
    "        x_train, x_test = X.iloc[train_index], X.iloc[test_index]\n",
    "        y_train, y_test = Y.iloc[train_index], Y.iloc[test_index]\n",
    "        # Turn values into tensors\n",
    "        X_train_tensor = torch.tensor(x_train.values)\n",
    "        X_test_tensor = torch.tensor(x_test.values)\n",
    "        Y_train_tensor = torch.tensor(y_train.values).reshape(-1, 1)\n",
    "        Y_test_tensor = torch.tensor(y_test.values).reshape(-1,1)\n",
    "\n",
    "        # Set up the Model\n",
    "        Num_Features = X.shape[1]  # takes variable 'x'\n",
    "        outputDim = 1  # takes variable 'y'\n",
    "        learningRate = 0.0001\n",
    "        epochs = 2000\n",
    "\n",
    "        model = linearRegression(Num_Features)\n",
    "        criterion = torch.nn.L1Loss()\n",
    "        #criterion = torch.nn.MSELoss(reduction='mean')\n",
    "        optimizer = torch.optim.SGD(model.parameters(), lr=learningRate)\n",
    "\n",
    "        # Run through the model\n",
    "        for j in range(epochs):\n",
    "            # Clear Gradients\n",
    "            optimizer.zero_grad()\n",
    "            # Run Model\n",
    "            outputs = model.forward(X_train_tensor.float())\n",
    "            # Get Lost for Predicted Output\n",
    "            loss = criterion(outputs, Y_train_tensor.float())\n",
    "            # Backward Propogation\n",
    "            loss.backward()\n",
    "            # Update Parameters\n",
    "            optimizer.step()\n",
    "        \n",
    "        # Test Prediction of the Model\n",
    "        optimizer.zero_grad()\n",
    "        y_hat = model(X_test_tensor.float())\n",
    "        # Calculate MSE\n",
    "        ## Convert to Numpy\n",
    "        y_hat = y_hat.detach().numpy()\n",
    "        Y_test_tensor = Y_test_tensor.numpy()\n",
    "        \n",
    "        # Calculate the Variance for each model\n",
    "        Y2_tensor = torch.tensor(Y2.values)                                           # Turn X Dataframe to Tensors\n",
    "        X2_tensor =torch.tensor(X2.values)                                            # Turn Y Dataframe to Tensors\n",
    "        y_hat2 = model(X2_tensor.float())                                             # Calculate Prediction\n",
    "        var_score = explained_variance_score(y_hat2.detach().numpy(), Y2_tensor)\n",
    "        Variance_List.append(var_score)\n",
    "        \n",
    "        ## Now I can calculate the MSE using Scikit Learning\n",
    "        MSE = mean_squared_error(Y_test_tensor, y_hat)\n",
    "        MSE_List.append(MSE)\n",
    "\n",
    "        w = list(model.parameters())\n",
    "        #print(w.detach())\n",
    "        #for param in model.parameters():\n",
    "        Weights_List.append(w[0].detach().numpy())\n",
    "        Y_Coefficients.append(w[1].detach().numpy())\n",
    "        \n",
    "print(MSE_List)\n"
   ]
  },
  {
   "cell_type": "code",
   "execution_count": 25,
   "metadata": {},
   "outputs": [
    {
     "name": "stdout",
     "output_type": "stream",
     "text": [
      "Coefficient of the Ensemble Model\n",
      "[[-4.7261077e-01 -7.4929351e-01 -2.7723294e-01 -3.6454222e-01\n",
      "   8.6266031e+00  1.5280875e+00 -7.9241088e-03 -2.4023162e-02\n",
      "  -8.6865276e-02  2.2356567e+00 -1.9352664e+00 -4.6519822e-01\n",
      "  -6.1374086e-01]]\n",
      "Y Coefficient 0.03898952\n",
      "Actual: 13495.0 Prediction: [12519.97296854]\n",
      "Actual: 16500.0 Prediction: [12519.97296854]\n",
      "Actual: 16500.0 Prediction: [15017.28422598]\n",
      "Actual: 13950.0 Prediction: [9662.85211119]\n",
      "Actual: 17450.0 Prediction: [13942.33817829]\n"
     ]
    }
   ],
   "source": [
    "# Coefficient of Model\n",
    "coefficients = np.mean(Weights_List, axis=0)\n",
    "print(\"Coefficient of the Ensemble Model\")\n",
    "print(coefficients)\n",
    "\n",
    "# Y Coefficient\n",
    "y_coefficient = np.mean(Y_Coefficients)\n",
    "print(\"Y Coefficient\", y_coefficient)\n",
    "\n",
    "# Calculate Predictions\n",
    "predictions = predict(X.values, coefficients.T, y_coefficient)\n",
    "\n",
    "# First Five Value Prediction Comparison\n",
    "for k in range(5):\n",
    "    print(\"Actual:\", Y2[k], \"Prediction:\",predictions[k])"
   ]
  },
  {
   "cell_type": "markdown",
   "metadata": {},
   "source": [
    "#### Part i\n",
    "\n",
    "Plot a kernel density estimate for the mean square error (MSE) for this model. (Each fold yields an estimate of MSE; find the kernel density estimate using the 30 samples of MSE)"
   ]
  },
  {
   "cell_type": "code",
   "execution_count": 26,
   "metadata": {},
   "outputs": [
    {
     "name": "stdout",
     "output_type": "stream",
     "text": [
      "Length of MSE: 30\n"
     ]
    },
    {
     "data": {
      "text/plain": [
       "Text(0.5, 1.0, 'KDE Plot of Model 1')"
      ]
     },
     "execution_count": 26,
     "metadata": {},
     "output_type": "execute_result"
    },
    {
     "data": {
      "image/png": "[encoded data removed]",
      "text/plain": [
       "<Figure size 432x288 with 1 Axes>"
      ]
     },
     "metadata": {
      "needs_background": "light"
     },
     "output_type": "display_data"
    }
   ],
   "source": [
    "# Make sure MSE List is 30\n",
    "print(\"Length of MSE:\", len(MSE_List))\n",
    "\n",
    "# Plot KDE of MSE\n",
    "sns.distplot(MSE_List, kde=True, rug=True)\n",
    "plt.title(\"KDE Plot of Model 1\")"
   ]
  },
  {
   "cell_type": "markdown",
   "metadata": {},
   "source": [
    "#### Part ii\n",
    "\n",
    "What is E[MSE] for this model?"
   ]
  },
  {
   "cell_type": "code",
   "execution_count": 27,
   "metadata": {},
   "outputs": [
    {
     "name": "stdout",
     "output_type": "stream",
     "text": [
      "Expected Average: 26941146.7237558\n",
      "Ensemble Model: 25731049.057616536\n"
     ]
    }
   ],
   "source": [
    "# From the 30 MSE Values\n",
    "Expected_Value = np.average(MSE_List)\n",
    "print(\"Expected Average:\", Expected_Value)\n",
    "\n",
    "# From MSE From the Ensemble Model\n",
    "## Still an Insane Number\n",
    "MSE_Ensemble_Model = mean_squared_error(predictions,Y.values)\n",
    "print(\"Ensemble Model:\", MSE_Ensemble_Model)"
   ]
  },
  {
   "cell_type": "markdown",
   "metadata": {},
   "source": [
    "#### Part iii\n",
    "\n",
    "Compute the variance for this model? "
   ]
  },
  {
   "cell_type": "code",
   "execution_count": 28,
   "metadata": {},
   "outputs": [
    {
     "name": "stdout",
     "output_type": "stream",
     "text": [
      "Expected Variance -0.03418083820164682\n",
      "Variance Ensemble Model: -0.019239659800054598\n"
     ]
    }
   ],
   "source": [
    "# My variance of the model is calculated using the SCKLEARN Variance Calculation of model\n",
    "# Since this model ran 30 times effectively. This is the average variance of each of the 30 models. \n",
    "Expected_Variance = np.average(Variance_List)\n",
    "print(\"Expected Variance\", Expected_Variance)\n",
    "\n",
    "## Calculate the Variance Of Ensembe Model \n",
    "Variance_Ensemble_Model = explained_variance_score(predictions, Y.values)\n",
    "print(\"Variance Ensemble Model:\", Variance_Ensemble_Model)"
   ]
  },
  {
   "cell_type": "markdown",
   "metadata": {},
   "source": [
    "#### Part iv\n",
    "Find the (bias)^2 + noise variance for this model, assuming E[MSE] is a good approximation for MSE. "
   ]
  },
  {
   "cell_type": "code",
   "execution_count": 29,
   "metadata": {},
   "outputs": [
    {
     "name": "stdout",
     "output_type": "stream",
     "text": [
      "Bias^2 + Noise Variance: 26941146.757936638\n"
     ]
    }
   ],
   "source": [
    "# Calculate Using the Formula\n",
    "## Value Needs to be Normalized  to make sense\n",
    "bias_squared_noise_variance = Expected_Value - Expected_Variance\n",
    "print(\"Bias^2 + Noise Variance:\", bias_squared_noise_variance)"
   ]
  },
  {
   "cell_type": "markdown",
   "metadata": {},
   "source": [
    "### Part B"
   ]
  },
  {
   "cell_type": "markdown",
   "metadata": {},
   "source": [
    "The second model would be the least feature model. Meaning that for this model I would try to use the least amount of features. The features chosen are comming directly from correlation. So this model is at the very low range of the spectrum. And I am dropping features that did not show any correlation with price or anything else in the previous exercises.\n",
    "\n",
    "price = curb-weight + horsepower + city-mpg"
   ]
  },
  {
   "cell_type": "code",
   "execution_count": 30,
   "metadata": {},
   "outputs": [
    {
     "name": "stdout",
     "output_type": "stream",
     "text": [
      "Shape of X: (195, 13)\n",
      "[24819662.678929806, 8032515.967555618, 53317103.91777744, 7814574.559152079, 15138647.886370588, 41834220.104977034, 80760474.68214412, 9010506.728088232, 12800246.646998484, 17579971.752212275, 11402865.00079441, 36230755.10439918, 21791136.892993055, 39212394.585660174, 25750451.05464654, 8183856.820975366, 30557161.24469496, 38758471.77667959, 24777350.96418855, 25366340.502504136, 32399908.611308385, 6524401.2465815665, 31457754.877616454, 16536593.846575523, 38715985.28740911, 21656648.14909024, 6359835.570629622, 19684113.388577826, 34953579.962031804, 52416485.08135557]\n"
     ]
    }
   ],
   "source": [
    "# We first set a new dataframe\n",
    "Model = read_data()\n",
    "Model2 = read_data()\n",
    "\n",
    "# Create the X Variables in our model\n",
    "X = Model[[\"wheel-base\", \"length\", \"width\", \"height\", \"curb-weight\", \"engine-size\", \"bore\", \"stroke\",\n",
    "          \"compression-ratio\", \"horsepower\", \"peak-rpm\", \"city-mpg\", \"highway-mpg\"]]    \n",
    "X2 = Model2[[\"wheel-base\", \"length\", \"width\", \"height\", \"curb-weight\", \"engine-size\", \"bore\", \"stroke\",\n",
    "          \"compression-ratio\", \"horsepower\", \"peak-rpm\", \"city-mpg\", \"highway-mpg\"]]    \n",
    "\n",
    "print(\"Shape of X:\",X.shape)\n",
    "\n",
    "# Create the Y Variable in our model\n",
    "Y = Model[\"price\"]\n",
    "Y2 = Model2[\"price\"]\n",
    "\n",
    "\n",
    "# Set Up The K-Folds\n",
    "K = 10\n",
    "kf = KFold(n_splits=10, shuffle=True)\n",
    "\n",
    "MSE_List = []\n",
    "Variance_List = []\n",
    "Weights_List = []\n",
    "Y_Coefficients = []\n",
    "Weights_List = []\n",
    "Y_Coefficients = []\n",
    "for i in range(3):\n",
    "    for train_index, test_index in kf.split(X):\n",
    "        # Split the Dataset\n",
    "        x_train, x_test = X.iloc[train_index], X.iloc[test_index]\n",
    "        y_train, y_test = Y.iloc[train_index], Y.iloc[test_index]\n",
    "        # Turn values into tensors\n",
    "        X_train_tensor = torch.tensor(x_train.values)\n",
    "        X_test_tensor = torch.tensor(x_test.values)\n",
    "        Y_train_tensor = torch.tensor(y_train.values).reshape(-1, 1)\n",
    "        Y_test_tensor = torch.tensor(y_test.values).reshape(-1,1)\n",
    "\n",
    "        # Set up the Model\n",
    "        Num_Features = X.shape[1]  # takes variable 'x'\n",
    "        outputDim = 1  # takes variable 'y'\n",
    "        learningRate = 0.0001\n",
    "        epochs = 2000\n",
    "\n",
    "        model = linearRegression(Num_Features)\n",
    "        criterion = torch.nn.L1Loss()\n",
    "        #criterion = torch.nn.MSELoss(reduction='mean')\n",
    "        optimizer = torch.optim.SGD(model.parameters(), lr=learningRate)\n",
    "\n",
    "        # Run through the model\n",
    "        for j in range(epochs):\n",
    "            # Clear Gradients\n",
    "            optimizer.zero_grad()\n",
    "            # Run Model\n",
    "            outputs = model.forward(X_train_tensor.float())\n",
    "            # Get Lost for Predicted Output\n",
    "            loss = criterion(outputs, Y_train_tensor.float())\n",
    "            # Backward Propogation\n",
    "            loss.backward()\n",
    "            # Update Parameters\n",
    "            optimizer.step()\n",
    "        \n",
    "        # Test Prediction of the Model\n",
    "        optimizer.zero_grad()\n",
    "        y_hat = model(X_test_tensor.float())\n",
    "        # Calculate MSE\n",
    "        ## Convert to Numpy\n",
    "        y_hat = y_hat.detach().numpy()\n",
    "        Y_test_tensor = Y_test_tensor.numpy()\n",
    "        \n",
    "        # Calculate the Variance for each model\n",
    "        Y2_tensor = torch.tensor(Y2.values)                                           # Turn X Dataframe to Tensors\n",
    "        X2_tensor =torch.tensor(X2.values)                                            # Turn Y Dataframe to Tensors\n",
    "        y_hat2 = model(X2_tensor.float())                                             # Calculate Prediction\n",
    "        var_score = explained_variance_score(y_hat2.detach().numpy(), Y2_tensor)\n",
    "        Variance_List.append(var_score)\n",
    "        \n",
    "        ## Now I can calculate the MSE using Scikit Learning\n",
    "        MSE = mean_squared_error(Y_test_tensor, y_hat)\n",
    "        MSE_List.append(MSE)\n",
    "\n",
    "        w = list(model.parameters())\n",
    "        #print(w.detach())\n",
    "        #for param in model.parameters():\n",
    "        Weights_List.append(w[0].detach().numpy())\n",
    "        Y_Coefficients.append(w[1].detach().numpy())\n",
    "        \n",
    "print(MSE_List)"
   ]
  },
  {
   "cell_type": "code",
   "execution_count": 31,
   "metadata": {},
   "outputs": [
    {
     "name": "stdout",
     "output_type": "stream",
     "text": [
      "Coefficient of the Ensemble Model\n",
      "[[-0.5374839  -0.74917644 -0.3295651  -0.3933755   8.636754    1.4992182\n",
      "  -0.02352462 -0.04160363 -0.12714592  2.1866925  -1.9394071  -0.5205739\n",
      "  -0.5748857 ]]\n",
      "Y Coefficient 0.008302014\n",
      "Actual: 13495.0 Prediction: [12504.84795889]\n",
      "Actual: 16500.0 Prediction: [12504.84795889]\n",
      "Actual: 16500.0 Prediction: [15001.72092616]\n",
      "Actual: 13950.0 Prediction: [9643.46954712]\n",
      "Actual: 17450.0 Prediction: [13926.60055856]\n"
     ]
    }
   ],
   "source": [
    "# Coefficient of Model\n",
    "coefficients = np.mean(Weights_List, axis=0)\n",
    "print(\"Coefficient of the Ensemble Model\")\n",
    "print(coefficients)\n",
    "\n",
    "# Y Coefficient\n",
    "y_coefficient = np.mean(Y_Coefficients)\n",
    "print(\"Y Coefficient\", y_coefficient)\n",
    "\n",
    "# Calculate Predictions\n",
    "predictions = predict(X.values, coefficients.T, y_coefficient)\n",
    "\n",
    "# First Five Value Prediction Comparison\n",
    "for k in range(5):\n",
    "    print(\"Actual:\", Y2[k], \"Prediction:\",predictions[k])"
   ]
  },
  {
   "cell_type": "markdown",
   "metadata": {},
   "source": [
    "#### Part i\n",
    "Plot a kernel density estimate for the mean square error (MSE) for this model. (Each fold yields an estimate of MSE; find the kernel density estimate using the 30 samples of MSE)"
   ]
  },
  {
   "cell_type": "code",
   "execution_count": 32,
   "metadata": {},
   "outputs": [
    {
     "name": "stdout",
     "output_type": "stream",
     "text": [
      "Length of MSE: 30\n"
     ]
    },
    {
     "data": {
      "text/plain": [
       "Text(0.5, 1.0, 'KDE Plot of Model 2')"
      ]
     },
     "execution_count": 32,
     "metadata": {},
     "output_type": "execute_result"
    },
    {
     "data": {
      "image/png": "[encoded data removed]",
      "text/plain": [
       "<Figure size 432x288 with 1 Axes>"
      ]
     },
     "metadata": {
      "needs_background": "light"
     },
     "output_type": "display_data"
    }
   ],
   "source": [
    "# Make sure MSE List is 30\n",
    "print(\"Length of MSE:\", len(MSE_List))\n",
    "\n",
    "# Plot KDE of MSE\n",
    "sns.distplot(MSE_List, kde=True, rug=True)\n",
    "plt.title(\"KDE Plot of Model 2\")"
   ]
  },
  {
   "cell_type": "markdown",
   "metadata": {},
   "source": [
    "#### Part ii\n",
    "What is E[MSE] for this model?"
   ]
  },
  {
   "cell_type": "code",
   "execution_count": 33,
   "metadata": {},
   "outputs": [
    {
     "name": "stdout",
     "output_type": "stream",
     "text": [
      "Expected Average: 26461467.16309726\n",
      "Ensemble Model: 25763236.733351726\n"
     ]
    }
   ],
   "source": [
    "# From the 30 MSE Values\n",
    "Expected_Value = np.average(MSE_List)\n",
    "print(\"Expected Average:\", Expected_Value)\n",
    "\n",
    "# From MSE From the Ensemble Model\n",
    "## Still an Insane Number\n",
    "MSE_Ensemble_Model = mean_squared_error(predictions,Y.values)\n",
    "print(\"Ensemble Model:\", MSE_Ensemble_Model)"
   ]
  },
  {
   "cell_type": "markdown",
   "metadata": {},
   "source": [
    "#### Part iii\n",
    "Compute the variance for this model? "
   ]
  },
  {
   "cell_type": "code",
   "execution_count": 34,
   "metadata": {},
   "outputs": [
    {
     "name": "stdout",
     "output_type": "stream",
     "text": [
      "Expected Variance -0.02656810123163308\n",
      "Variance Ensemble Model: -0.018034537575002396\n"
     ]
    }
   ],
   "source": [
    "# My variance of the model is calculated using the SCKLEARN Variance Calculation of model\n",
    "# Since this model ran 30 times effectively. This is the average variance of each of the 30 models. \n",
    "Expected_Variance = np.average(Variance_List)\n",
    "print(\"Expected Variance\", Expected_Variance)\n",
    "\n",
    "## Calculate the Variance Of Ensembe Model \n",
    "Variance_Ensemble_Model = explained_variance_score(predictions, Y.values)\n",
    "print(\"Variance Ensemble Model:\", Variance_Ensemble_Model)"
   ]
  },
  {
   "cell_type": "markdown",
   "metadata": {},
   "source": [
    "#### Part iv\n",
    "Find the (bias)^2 + noise variance for this model, assuming E[MSE] is a good approximation for MSE. "
   ]
  },
  {
   "cell_type": "code",
   "execution_count": 35,
   "metadata": {},
   "outputs": [
    {
     "name": "stdout",
     "output_type": "stream",
     "text": [
      "Bias^2 + Noise Variance: 26461467.18966536\n"
     ]
    }
   ],
   "source": [
    "# Calculate Using the Formula\n",
    "## Value Needs to be Normalized  to make sense\n",
    "bias_squared_noise_variance = Expected_Value - Expected_Variance\n",
    "print(\"Bias^2 + Noise Variance:\", bias_squared_noise_variance)"
   ]
  },
  {
   "cell_type": "markdown",
   "metadata": {},
   "source": [
    "### Part C"
   ]
  },
  {
   "cell_type": "markdown",
   "metadata": {},
   "source": [
    "The third model would be a more balanced model. I would try to drop some features but include a few more that were in the medium correlation levels. This should be a more balanced model that is probably closer to what Lasso or PCA would tell me to do.\n",
    "\n",
    "price = length + curb-weight + engine-size + horsepower + city-mpg + compression-ratio"
   ]
  },
  {
   "cell_type": "code",
   "execution_count": 36,
   "metadata": {},
   "outputs": [
    {
     "name": "stdout",
     "output_type": "stream",
     "text": [
      "Shape of X: (195, 13)\n",
      "[30938792.470775794, 9206610.216894269, 49376177.99948349, 4253875.8600485325, 40401362.86277952, 57755035.87686509, 17490336.02542468, 7364826.91906274, 13411393.206403444, 34026409.557255745, 28246206.39927392, 9998012.623349333, 47116266.679944515, 58603236.604019165, 15893157.845940912, 11315566.78682479, 12407814.496242363, 64647878.51490726, 6311571.325842757, 12486910.39567084, 13661366.96414876, 37121902.217785574, 15992812.143560732, 29430383.59765439, 36841330.867939815, 28874551.876119625, 44589570.62195084, 18440636.461155955, 31548531.63829609, 8337730.02202747]\n"
     ]
    }
   ],
   "source": [
    "# We first set a new dataframe\n",
    "Model = read_data()\n",
    "Model2 = read_data()\n",
    "\n",
    "# Create the X Variables in our model\n",
    "X = Model[[\"wheel-base\", \"length\", \"width\", \"height\", \"curb-weight\", \"engine-size\", \"bore\", \"stroke\",\n",
    "          \"compression-ratio\", \"horsepower\", \"peak-rpm\", \"city-mpg\", \"highway-mpg\"]]    \n",
    "X2 = Model2[[\"wheel-base\", \"length\", \"width\", \"height\", \"curb-weight\", \"engine-size\", \"bore\", \"stroke\",\n",
    "          \"compression-ratio\", \"horsepower\", \"peak-rpm\", \"city-mpg\", \"highway-mpg\"]]    \n",
    "\n",
    "print(\"Shape of X:\",X.shape)\n",
    "\n",
    "# Create the Y Variable in our model\n",
    "Y = Model[\"price\"]\n",
    "Y2 = Model2[\"price\"]\n",
    "\n",
    "\n",
    "# Set Up The K-Folds\n",
    "K = 10\n",
    "kf = KFold(n_splits=10, shuffle=True)\n",
    "\n",
    "MSE_List = []\n",
    "Variance_List = []\n",
    "Weights_List = []\n",
    "Y_Coefficients = []\n",
    "Weights_List = []\n",
    "Y_Coefficients = []\n",
    "for i in range(3):\n",
    "    for train_index, test_index in kf.split(X):\n",
    "        # Split the Dataset\n",
    "        x_train, x_test = X.iloc[train_index], X.iloc[test_index]\n",
    "        y_train, y_test = Y.iloc[train_index], Y.iloc[test_index]\n",
    "        # Turn values into tensors\n",
    "        X_train_tensor = torch.tensor(x_train.values)\n",
    "        X_test_tensor = torch.tensor(x_test.values)\n",
    "        Y_train_tensor = torch.tensor(y_train.values).reshape(-1, 1)\n",
    "        Y_test_tensor = torch.tensor(y_test.values).reshape(-1,1)\n",
    "\n",
    "        # Set up the Model\n",
    "        Num_Features = X.shape[1]  # takes variable 'x'\n",
    "        outputDim = 1  # takes variable 'y'\n",
    "        learningRate = 0.0001\n",
    "        epochs = 2000\n",
    "\n",
    "        model = linearRegression(Num_Features)\n",
    "        criterion = torch.nn.L1Loss()\n",
    "        #criterion = torch.nn.MSELoss(reduction='mean')\n",
    "        optimizer = torch.optim.SGD(model.parameters(), lr=learningRate)\n",
    "\n",
    "        # Run through the model\n",
    "        for j in range(epochs):\n",
    "            # Clear Gradients\n",
    "            optimizer.zero_grad()\n",
    "            # Run Model\n",
    "            outputs = model.forward(X_train_tensor.float())\n",
    "            # Get Lost for Predicted Output\n",
    "            loss = criterion(outputs, Y_train_tensor.float())\n",
    "            # Backward Propogation\n",
    "            loss.backward()\n",
    "            # Update Parameters\n",
    "            optimizer.step()\n",
    "        \n",
    "        # Test Prediction of the Model\n",
    "        optimizer.zero_grad()\n",
    "        y_hat = model(X_test_tensor.float())\n",
    "        # Calculate MSE\n",
    "        ## Convert to Numpy\n",
    "        y_hat = y_hat.detach().numpy()\n",
    "        Y_test_tensor = Y_test_tensor.numpy()\n",
    "        \n",
    "        # Calculate the Variance for each model\n",
    "        Y2_tensor = torch.tensor(Y2.values)                                           # Turn X Dataframe to Tensors\n",
    "        X2_tensor =torch.tensor(X2.values)                                            # Turn Y Dataframe to Tensors\n",
    "        y_hat2 = model(X2_tensor.float())                                             # Calculate Prediction\n",
    "        var_score = explained_variance_score(y_hat2.detach().numpy(), Y2_tensor)\n",
    "        Variance_List.append(var_score)\n",
    "        \n",
    "        ## Now I can calculate the MSE using Scikit Learning\n",
    "        MSE = mean_squared_error(Y_test_tensor, y_hat)\n",
    "        MSE_List.append(MSE)\n",
    "\n",
    "        w = list(model.parameters())\n",
    "        #print(w.detach())\n",
    "        #for param in model.parameters():\n",
    "        Weights_List.append(w[0].detach().numpy())\n",
    "        Y_Coefficients.append(w[1].detach().numpy())\n",
    "        \n",
    "print(MSE_List)"
   ]
  },
  {
   "cell_type": "code",
   "execution_count": 37,
   "metadata": {},
   "outputs": [
    {
     "name": "stdout",
     "output_type": "stream",
     "text": [
      "Coefficient of the Ensemble Model\n",
      "[[-0.5061611  -0.82475567 -0.3286588  -0.34797576  8.6537895   1.4539413\n",
      "   0.03817628 -0.01162591 -0.12923048  2.2200487  -1.94353    -0.5090639\n",
      "  -0.59171426]]\n",
      "Y Coefficient -0.025810922\n",
      "Actual: 13495.0 Prediction: [12517.77658365]\n",
      "Actual: 16500.0 Prediction: [12517.77658365]\n",
      "Actual: 16500.0 Prediction: [15019.90940318]\n",
      "Actual: 13950.0 Prediction: [9651.39203329]\n",
      "Actual: 17450.0 Prediction: [13942.08786978]\n"
     ]
    }
   ],
   "source": [
    "# Coefficient of Model\n",
    "coefficients = np.mean(Weights_List, axis=0)\n",
    "print(\"Coefficient of the Ensemble Model\")\n",
    "print(coefficients)\n",
    "\n",
    "# Y Coefficient\n",
    "y_coefficient = np.mean(Y_Coefficients)\n",
    "print(\"Y Coefficient\", y_coefficient)\n",
    "\n",
    "# Calculate Predictions\n",
    "predictions = predict(X.values, coefficients.T, y_coefficient)\n",
    "\n",
    "# First Five Value Prediction Comparison\n",
    "for k in range(5):\n",
    "    print(\"Actual:\", Y2[k], \"Prediction:\",predictions[k])"
   ]
  },
  {
   "cell_type": "markdown",
   "metadata": {},
   "source": [
    "#### Part i\n",
    "\n",
    "Plot a kernel density estimate for the mean square error (MSE) for this model. (Each fold yields an estimate of MSE; find the kernel density estimate using the 30 samples of MSE)"
   ]
  },
  {
   "cell_type": "code",
   "execution_count": 38,
   "metadata": {},
   "outputs": [
    {
     "name": "stdout",
     "output_type": "stream",
     "text": [
      "Length of MSE: 30\n"
     ]
    },
    {
     "data": {
      "text/plain": [
       "Text(0.5, 1.0, 'KDE Plot of Model 3')"
      ]
     },
     "execution_count": 38,
     "metadata": {},
     "output_type": "execute_result"
    },
    {
     "data": {
      "image/png": "[encoded data removed]",
      "text/plain": [
       "<Figure size 432x288 with 1 Axes>"
      ]
     },
     "metadata": {
      "needs_background": "light"
     },
     "output_type": "display_data"
    }
   ],
   "source": [
    "# Make sure MSE List is 30\n",
    "print(\"Length of MSE:\", len(MSE_List))\n",
    "\n",
    "# Plot KDE of MSE\n",
    "sns.distplot(MSE_List, kde=True, rug=True)\n",
    "plt.title(\"KDE Plot of Model 3\")"
   ]
  },
  {
   "cell_type": "markdown",
   "metadata": {},
   "source": [
    "#### Part ii\n",
    "\n",
    "What is E[MSE] for this model?"
   ]
  },
  {
   "cell_type": "code",
   "execution_count": 39,
   "metadata": {},
   "outputs": [
    {
     "name": "stdout",
     "output_type": "stream",
     "text": [
      "Expected Average: 26536341.969254956\n",
      "Ensemble Model: 25718973.233390264\n"
     ]
    }
   ],
   "source": [
    "# From the 30 MSE Values\n",
    "Expected_Value = np.average(MSE_List)\n",
    "print(\"Expected Average:\", Expected_Value)\n",
    "\n",
    "# From MSE From the Ensemble Model\n",
    "## Still an Insane Number\n",
    "MSE_Ensemble_Model = mean_squared_error(predictions,Y.values)\n",
    "print(\"Ensemble Model:\", MSE_Ensemble_Model)"
   ]
  },
  {
   "cell_type": "markdown",
   "metadata": {},
   "source": [
    "#### Part iii\n",
    "\n",
    "Compute the variance for this model? "
   ]
  },
  {
   "cell_type": "code",
   "execution_count": 40,
   "metadata": {},
   "outputs": [
    {
     "name": "stdout",
     "output_type": "stream",
     "text": [
      "Expected Variance -0.023343886390327768\n",
      "Variance Ensemble Model: -0.013716682430202853\n"
     ]
    }
   ],
   "source": [
    "# My variance of the model is calculated using the SCKLEARN Variance Calculation of model\n",
    "# Since this model ran 30 times effectively. This is the average variance of each of the 30 models. \n",
    "Expected_Variance = np.average(Variance_List)\n",
    "print(\"Expected Variance\", Expected_Variance)\n",
    "\n",
    "## Calculate the Variance Of Ensembe Model \n",
    "Variance_Ensemble_Model = explained_variance_score(predictions, Y.values)\n",
    "print(\"Variance Ensemble Model:\", Variance_Ensemble_Model)"
   ]
  },
  {
   "cell_type": "markdown",
   "metadata": {},
   "source": [
    "#### Part iv\n",
    "\n",
    "Find the (bias)^2 + noise variance for this model, assuming E[MSE] is a good approximation for MSE. "
   ]
  },
  {
   "cell_type": "code",
   "execution_count": 41,
   "metadata": {},
   "outputs": [
    {
     "name": "stdout",
     "output_type": "stream",
     "text": [
      "Bias^2 + Noise Variance: 26536341.992598843\n"
     ]
    }
   ],
   "source": [
    "# Calculate Using the Formula\n",
    "## Value Needs to be Normalized  to make sense\n",
    "bias_squared_noise_variance = Expected_Value - Expected_Variance\n",
    "print(\"Bias^2 + Noise Variance:\", bias_squared_noise_variance)"
   ]
  },
  {
   "cell_type": "code",
   "execution_count": null,
   "metadata": {},
   "outputs": [],
   "source": []
  }
 ],
 "metadata": {
  "kernelspec": {
   "display_name": "Python 3",
   "language": "python",
   "name": "python3"
  },
  "language_info": {
   "codemirror_mode": {
    "name": "ipython",
    "version": 3
   },
   "file_extension": ".py",
   "mimetype": "text/x-python",
   "name": "python",
   "nbconvert_exporter": "python",
   "pygments_lexer": "ipython3",
   "version": "3.7.6"
  },
  "toc": {
   "base_numbering": 1,
   "nav_menu": {},
   "number_sections": false,
   "sideBar": true,
   "skip_h1_title": true,
   "title_cell": "Table of Contents",
   "title_sidebar": "Contents",
   "toc_cell": false,
   "toc_position": {
    "height": "calc(100% - 180px)",
    "left": "10px",
    "top": "150px",
    "width": "298.13px"
   },
   "toc_section_display": true,
   "toc_window_display": true
  }
 },
 "nbformat": 4,
 "nbformat_minor": 2
}
