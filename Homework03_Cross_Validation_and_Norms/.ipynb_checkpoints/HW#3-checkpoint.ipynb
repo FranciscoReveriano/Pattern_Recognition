{
 "cells": [
  {
   "cell_type": "markdown",
   "metadata": {},
   "source": [
    "# Homework #3: Cross-Validation and Norms\n",
    "\n",
    "by Francisco Reveriano\n"
   ]
  },
  {
   "cell_type": "code",
   "execution_count": 3,
   "metadata": {},
   "outputs": [],
   "source": [
    "import pandas as pd\n",
    "import numpy as np\n",
    "import matplotlib.pyplot as plt\n",
    "import seaborn as sns\n",
    "%matplotlib inline\n",
    "from tqdm.notebook import trange, tqdm\n",
    "from sklearn.linear_model import LinearRegression\n",
    "from sklearn.metrics import r2_score\n",
    "from sklearn.model_selection import KFold\n",
    "from sklearn.model_selection import cross_val_score\n",
    "from sklearn.metrics import mean_squared_error\n",
    "from sklearn.metrics import explained_variance_score\n",
    "import torch"
   ]
  },
  {
   "cell_type": "code",
   "execution_count": 4,
   "metadata": {},
   "outputs": [],
   "source": [
    "# Inherit Linear Data\n",
    "class linearRegression(torch.nn.Module):\n",
    "    def __init__(self, n_features):\n",
    "        super(linearRegression, self).__init__()\n",
    "        self.linear = torch.nn.Linear(in_features=n_features, out_features=1)\n",
    "\n",
    "    def forward(self, x):\n",
    "        return self.linear(x)\n",
    "\n",
    "# Read Data\n",
    "def read_data():\n",
    "    # The first part is reading the dataset. With Pandas I can treat the dataset as if it was a .csv file.\n",
    "    data = pd.read_csv(\"C:/Users/rever/Documents/Pattern_Recognition/Homework03_Cross_Validation_and_Norms/imports-85.data\", header=None)\n",
    "\n",
    "    # At this point the dataset has no header. It is easier for me to place a header to make it easier to choose columns\n",
    "    headers = [\"symboling\", \"normalized-losses\", \"make\", \"fuel-type\", \"aspiration\", \"num-of-doors\", \"body-style\",\n",
    "               \"drive-wheels\", \"engine-location\", \"wheel-base\", \"length\", \"width\", \"height\", \"curb-weight\",\n",
    "               \"engine-type\",\n",
    "               \"num-of-cylinders\", \"engine-size\", \"fuel-system\", \"bore\", \"stroke\", \"compression-ratio\", \"horsepower\",\n",
    "               \"peak-rpm\", \"city-mpg\", \"highway-mpg\", \"price\"]\n",
    "\n",
    "    # We add the headers to the table to make it readable.\n",
    "    data.columns = headers\n",
    "\n",
    "    # We can see that there are 26 columns. This means that we need to delete them. And use only the columns we have been assigned.\n",
    "    # So in other words we are dropping the columns using the panda drop command function.\n",
    "    data = data.drop(columns=[\"symboling\", \"normalized-losses\", \"make\", \"fuel-type\", \"aspiration\",\"num-of-doors\", \"body-style\", \"drive-wheels\", \"engine-location\",\"engine-type\", \"num-of-cylinders\", \"fuel-system\"])\n",
    "\n",
    "    # We now proceed to reformat the dataset by first turning all the '?' into 'NaN'\n",
    "    data[\"price\"] = pd.to_numeric(data[\"price\"], errors='coerce')\n",
    "    data[\"bore\"] = pd.to_numeric(data[\"bore\"], errors='coerce')\n",
    "    data[\"stroke\"] = pd.to_numeric(data[\"stroke\"], errors='coerce')\n",
    "    data[\"compression-ratio\"] = pd.to_numeric(data[\"compression-ratio\"], errors='coerce')\n",
    "    data[\"horsepower\"] = pd.to_numeric(data[\"horsepower\"], errors='coerce')\n",
    "    data[\"peak-rpm\"] = pd.to_numeric(data[\"peak-rpm\"], errors='coerce')\n",
    "    # We then proceed to drop the NaN\n",
    "    data = data.dropna(subset=[\"price\"], axis=0)\n",
    "    # data = data.dropna(subset=[\"bore\"], axis= 0)\n",
    "    data = data.dropna()\n",
    "\n",
    "    # Make a copy of the model\n",
    "    Model = data.copy()\n",
    "    return Model\n"
   ]
  },
  {
   "cell_type": "code",
   "execution_count": 93,
   "metadata": {},
   "outputs": [],
   "source": [
    "# Function Used to Find the Values of the Ensemble Model\n",
    "## The Ensemble Model is made from the 30 Folds \n",
    "def predict(X, X_Coefficient, Y_Coefficient):\n",
    "    value = np.dot(X, X_Coefficient) + Y_Coefficient\n",
    "    return value"
   ]
  },
  {
   "cell_type": "markdown",
   "metadata": {},
   "source": [
    "## Problem 1\n",
    "\n",
    "Continuing with the 13 continous predictor variables from the Automobile Data Set from the UCI Machine Learning Respository that you used in Homework #2 to predict a car's price from its characteristics, you are going to further explore the 3 models you proposed in problem 2(a) in Homework #2.\n"
   ]
  },
  {
   "cell_type": "markdown",
   "metadata": {},
   "source": [
    "### Part A"
   ]
  },
  {
   "cell_type": "markdown",
   "metadata": {},
   "source": [
    "The first model I propose is a sort of null model. Basically a model running all of the 13 features. With this model I can establish a baseline to compare the performance of models with smaller features.\n",
    "\n",
    "price = wheel-base + length + width + height + curb-weight + engine-size + bore + stroke + compression-ratio + horsepower + peak-rpm + city-mpg + highway-mpg\n"
   ]
  },
  {
   "cell_type": "code",
   "execution_count": 94,
   "metadata": {
    "scrolled": true
   },
   "outputs": [
    {
     "name": "stdout",
     "output_type": "stream",
     "text": [
      "Variance List: [0.8341369324906125, 0.833744408732015, 0.8267040308944795, 0.8325575292227992, 0.8218326070388472, 0.8309266667533429, 0.835642388167345, 0.8362834439754098, 0.8352213469647147, 0.8283498927363443, 0.8153441662089285, 0.8322575720577543, 0.8298793248294807, 0.8322081873502242, 0.8274219170356564, 0.8333449052019621, 0.815756034085019, 0.8350501480408205, 0.8294512710690507, 0.8442406417053747, 0.8178745496978943, 0.8349964548461499, 0.8342576530460006, 0.820026401047127, 0.8326443424074048, 0.8465699430817278, 0.8342071419430052, 0.8338027244307222, 0.8332291389572202, 0.8249243992655525]\n"
     ]
    }
   ],
   "source": [
    "# We first set a new dataframe\n",
    "Model = read_data()\n",
    "\n",
    "# Create the X Variables in our model\n",
    "X = Model[[\"wheel-base\", \"length\", \"width\", \"height\", \"curb-weight\", \"engine-size\", \"bore\", \"stroke\",\n",
    "          \"compression-ratio\", \"horsepower\", \"peak-rpm\", \"city-mpg\", \"highway-mpg\"]]    \n",
    "\n",
    "# Create the Y Variable in our model\n",
    "Y = Model[\"price\"]\n",
    "\n",
    "# Set Up The K-Folds\n",
    "K = 10\n",
    "kf = KFold(n_splits=10, shuffle=True)\n",
    "\n",
    "# Set Up Linear Regression\n",
    "Linear_Model = LinearRegression()\n",
    "\n",
    "MSE_List = []\n",
    "Variance_List = []\n",
    "Weights_List = []\n",
    "Y_Coefficients = []\n",
    "for i in range(3):\n",
    "    for train_index, test_index in kf.split(X):\n",
    "        # Split the Dataset\n",
    "        x_train, x_test = X.iloc[train_index], X.iloc[test_index]\n",
    "        y_train, y_test = Y.iloc[train_index], Y.iloc[test_index]\n",
    "        \n",
    "        # Set Up Linear Regression Model\n",
    "        Linear_Model.fit(x_train, y_train)\n",
    "        \n",
    "        # Linear Regression Coefficient\n",
    "        Weights_List.append(Linear_Model.coef_)\n",
    "\n",
    "        # Linear Regression Y Coefficient\n",
    "        Y_Coefficients.append(Linear_Model.intercept_)\n",
    "        \n",
    "        # Linear Model Predict\n",
    "        y_hat = Linear_Model.predict(x_test)\n",
    "        \n",
    "        # Calculate Variance of the whole model using the whole dataset\n",
    "        y_hat2 = Linear_Model.predict(X)\n",
    "        var_score = explained_variance_score(y_hat2, Y)\n",
    "        Variance_List.append(var_score)\n",
    "        \n",
    "        ## Now I can calculate the MSE using Scikit Learning\n",
    "        MSE = mean_squared_error(y_test, y_hat)\n",
    "        MSE_List.append(MSE)\n",
    "\n",
    "print(\"Variance List:\", Variance_List)"
   ]
  },
  {
   "cell_type": "code",
   "execution_count": 95,
   "metadata": {},
   "outputs": [
    {
     "name": "stdout",
     "output_type": "stream",
     "text": [
      "Number of models: 30\n",
      "Coefficient of the Model\n",
      "[ 7.14521862e+01 -8.90231910e+01  6.20143385e+02  3.17274454e+02\n",
      "  1.70220815e+00  1.26680809e+02 -9.59483467e+02 -2.96987803e+03\n",
      "  2.40446170e+02  3.80549668e+01  2.08163645e+00 -3.05484950e+02\n",
      "  2.81505737e+02]\n",
      "Y Coefficient -61898.643642207564\n"
     ]
    }
   ],
   "source": [
    "# Lets Arrange the Ensemble Model\n",
    "print(\"Number of models:\", len(Variance_List))\n",
    "\n",
    "# Coefficient of Model\n",
    "coefficients = np.mean(Weights_List, axis=0)\n",
    "print(\"Coefficient of the Model\")\n",
    "print(coefficients)\n",
    "\n",
    "# Y Coefficient\n",
    "y_coefficient = np.mean(Y_Coefficients)\n",
    "print(\"Y Coefficient\", y_coefficient)"
   ]
  },
  {
   "cell_type": "code",
   "execution_count": 96,
   "metadata": {},
   "outputs": [],
   "source": [
    "predictions = predict(X.values, coefficients,y_coefficient)"
   ]
  },
  {
   "cell_type": "markdown",
   "metadata": {},
   "source": [
    "#### Part i \n",
    "\n",
    "Plot a kernel density estimate for the mean square error (MSE) for this model? "
   ]
  },
  {
   "cell_type": "code",
   "execution_count": 97,
   "metadata": {},
   "outputs": [
    {
     "name": "stdout",
     "output_type": "stream",
     "text": [
      "Length of MSE: 30\n"
     ]
    },
    {
     "data": {
      "text/plain": [
       "Text(0.5, 1.0, 'KDE Plot of Model 1')"
      ]
     },
     "execution_count": 97,
     "metadata": {},
     "output_type": "execute_result"
    },
    {
     "data": {
      "image/png": "[encoded data removed]",
      "text/plain": [
       "<Figure size 432x288 with 1 Axes>"
      ]
     },
     "metadata": {
      "needs_background": "light"
     },
     "output_type": "display_data"
    }
   ],
   "source": [
    "# Make sure MSE List is 30\n",
    "print(\"Length of MSE:\", len(MSE_List))\n",
    "\n",
    "# Plot KDE of MSE\n",
    "sns.distplot(MSE_List, kde=True, rug=True)\n",
    "plt.title(\"KDE Plot of Model 1\")"
   ]
  },
  {
   "cell_type": "code",
   "execution_count": 98,
   "metadata": {},
   "outputs": [
    {
     "name": "stdout",
     "output_type": "stream",
     "text": [
      "MSE: [12860476.196835158, 2638773.118548528, 16226688.99767355, 11343862.635617865, 19815088.59209893, 3365403.603797543, 19834398.961173918, 10039606.005980298, 5303211.9164455505, 8654762.394437522, 20547580.733199783, 12700007.90702357, 12141237.297643427, 6961895.3626404, 8833267.817577677, 5574904.118486194, 19327246.815104667, 8137128.617791391, 5914450.020156168, 24342713.52225342, 18687497.62191979, 7270701.925839958, 6463370.56805514, 13619994.80946747, 11923439.847358715, 22716616.72931772, 7382926.527678035, 7832260.681289308, 3876563.4547520336, 12733536.533955624]\n"
     ]
    }
   ],
   "source": [
    "print(\"MSE:\",MSE_List)"
   ]
  },
  {
   "cell_type": "markdown",
   "metadata": {},
   "source": [
    "#### Part ii\n",
    "\n",
    "What is E[MSE] for this model? "
   ]
  },
  {
   "cell_type": "code",
   "execution_count": 101,
   "metadata": {},
   "outputs": [
    {
     "name": "stdout",
     "output_type": "stream",
     "text": [
      "Expected Average: 11568987.11113731\n",
      "Ensemble Model: 9240701.73723051\n"
     ]
    }
   ],
   "source": [
    "# From the 30 MSE Values\n",
    "Expected_Value = np.average(MSE_List)\n",
    "print(\"Expected Average:\", Expected_Value)\n",
    "\n",
    "# From MSE From the Ensemble Model\n",
    "## Still an Insane Number\n",
    "MSE_Ensemble_Model = mean_squared_error(predictions,Y.values)\n",
    "print(\"Ensemble Model:\", MSE_Ensemble_Model)"
   ]
  },
  {
   "cell_type": "markdown",
   "metadata": {},
   "source": [
    "#### Part iii\n",
    "\n",
    "Compute the variance for this model. "
   ]
  },
  {
   "cell_type": "code",
   "execution_count": 102,
   "metadata": {},
   "outputs": [
    {
     "name": "stdout",
     "output_type": "stream",
     "text": [
      "Expected Variance 0.8307628721094329\n",
      "Variance Ensemble Model: 0.8329575596021175\n"
     ]
    }
   ],
   "source": [
    "# My variance of the model is calculated using the SCKLEARN Variance Calculation of model\n",
    "# Since this model ran 30 times effectively. This is the average variance of each of the 30 models. \n",
    "Expected_Variance = np.average(Variance_List)\n",
    "print(\"Expected Variance\", Expected_Variance)\n",
    "\n",
    "## Calculate the Variance Of Ensembe Model \n",
    "Variance_Ensemble_Model = explained_variance_score(predictions, Y.values)\n",
    "print(\"Variance Ensemble Model:\", Variance_Ensemble_Model)"
   ]
  },
  {
   "cell_type": "markdown",
   "metadata": {},
   "source": [
    "#### Part iv\n",
    "\n",
    "Find the (bias)^2 + noise variance for this model, assuming E[MSE] is a good approximation for MSE. "
   ]
  },
  {
   "cell_type": "code",
   "execution_count": 103,
   "metadata": {},
   "outputs": [
    {
     "name": "stdout",
     "output_type": "stream",
     "text": [
      "Bias^2 + Noise Variance: 11568986.280374438\n"
     ]
    }
   ],
   "source": [
    "# Calculate Using the Formula\n",
    "## Value Needs to be Normalized  to make sense\n",
    "bias_squared_noise_variance = Expected_Value - Expected_Variance\n",
    "print(\"Bias^2 + Noise Variance:\", bias_squared_noise_variance)"
   ]
  },
  {
   "cell_type": "markdown",
   "metadata": {},
   "source": [
    "#### Part v\n",
    "What is your impression of the variance of this model versus the (bias)^2 + noise variance for this model? "
   ]
  },
  {
   "cell_type": "markdown",
   "metadata": {},
   "source": [
    "### Part B\n",
    "\n",
    "The second model would be the least feature model. Meaning that for this model I would try to use the least amount of features. The features chosen are comming directly from correlation. So this model is at the very low range of the spectrum. And I am dropping features that did not show any correlation with price or anything else in the previous exercises.\n",
    "price = curb-weight + horsepower + city-mpg"
   ]
  },
  {
   "cell_type": "code",
   "execution_count": 104,
   "metadata": {},
   "outputs": [
    {
     "name": "stdout",
     "output_type": "stream",
     "text": [
      "Variance List: [0.7117594478394491, 0.7278186187685671, 0.7139251191573468, 0.7282654799891422, 0.7165933450654867, 0.7078284869293333, 0.7249068928895446, 0.6983237969974821, 0.7184277751574131, 0.7123892086225772, 0.7139109408719071, 0.7242275617943232, 0.733179719648249, 0.6887700822215266, 0.7201122352509972, 0.7185657531301742, 0.7054916703138392, 0.7143126702678854, 0.7281420473650899, 0.7126642939614332, 0.702073189563843, 0.7173589459687508, 0.7267962512479901, 0.7204808363551194, 0.7089100677941883, 0.7215652201344417, 0.71264288868803, 0.7333727270658651, 0.6916703688862613, 0.7237936377014658]\n"
     ]
    }
   ],
   "source": [
    "# We first set a new dataframe\n",
    "Model = read_data()\n",
    "\n",
    "# Create the X Variables in our model\n",
    "X = Model[[\"curb-weight\", \"horsepower\", \"city-mpg\"]]   \n",
    "\n",
    "# Create the Y Variable in our model\n",
    "Y = Model[\"price\"]\n",
    "\n",
    "# Set Up The K-Folds\n",
    "K = 10\n",
    "kf = KFold(n_splits=10, shuffle=True)\n",
    "\n",
    "# Set Up Linear Regression\n",
    "Linear_Model = LinearRegression()\n",
    "\n",
    "MSE_List = []\n",
    "Variance_List = []\n",
    "Weights_List = []\n",
    "Y_Coefficients = []\n",
    "for i in range(3):\n",
    "    for train_index, test_index in kf.split(X):\n",
    "        # Split the Dataset\n",
    "        x_train, x_test = X.iloc[train_index], X.iloc[test_index]\n",
    "        y_train, y_test = Y.iloc[train_index], Y.iloc[test_index]\n",
    "        \n",
    "        # Set Up Linear Regression Model\n",
    "        Linear_Model.fit(x_train, y_train)\n",
    "        \n",
    "        # Linear Regression Coefficient\n",
    "        Weights_List.append(Linear_Model.coef_)\n",
    "\n",
    "        # Linear Regression Y Coefficient\n",
    "        Y_Coefficients.append(Linear_Model.intercept_)\n",
    "        \n",
    "        # Linear Model Predict\n",
    "        y_hat = Linear_Model.predict(x_test)\n",
    "        \n",
    "        # Calculate Variance of the whole model using the whole dataset\n",
    "        y_hat2 = Linear_Model.predict(X)\n",
    "        var_score = explained_variance_score(y_hat2, Y)\n",
    "        Variance_List.append(var_score)\n",
    "        \n",
    "        ## Now I can calculate the MSE using Scikit Learning\n",
    "        MSE = mean_squared_error(y_test, y_hat)\n",
    "        MSE_List.append(MSE)\n",
    "\n",
    "print(\"Variance List:\", Variance_List)"
   ]
  },
  {
   "cell_type": "code",
   "execution_count": 106,
   "metadata": {},
   "outputs": [
    {
     "name": "stdout",
     "output_type": "stream",
     "text": [
      "Number of models: 30\n",
      "Coefficient of the Model\n",
      "[  8.8647325  110.1451048  220.47645988]\n",
      "Y Coefficient -26407.96131236542\n"
     ]
    }
   ],
   "source": [
    "# Lets Arrange the Ensemble Model\n",
    "print(\"Number of models:\", len(Variance_List))\n",
    "\n",
    "# Coefficient of Model\n",
    "coefficients = np.mean(Weights_List, axis=0)\n",
    "print(\"Coefficient of the Model\")\n",
    "print(coefficients)\n",
    "\n",
    "# Y Coefficient\n",
    "y_coefficient = np.mean(Y_Coefficients)\n",
    "print(\"Y Coefficient\", y_coefficient)\n",
    "\n",
    "# Calculate Predictions\n",
    "predictions = predict(X.values, coefficients,y_coefficient)"
   ]
  },
  {
   "cell_type": "markdown",
   "metadata": {},
   "source": [
    "#### Part i\n",
    "\n",
    "Plot a kernel density estimate for the mean square error (MSE) for this model? "
   ]
  },
  {
   "cell_type": "code",
   "execution_count": 107,
   "metadata": {},
   "outputs": [
    {
     "name": "stdout",
     "output_type": "stream",
     "text": [
      "Length of MSE: 30\n",
      "MSE List [18578795.697060395, 8649999.73862482, 11492367.808753839, 26340350.102194507, 20900436.92486333, 11868936.348162156, 7626557.108942908, 23065201.12139397, 12664539.680784082, 10527002.970133051, 17686599.951504882, 5477656.760168198, 14130418.695628863, 24790702.737324048, 10104352.986837117, 16816670.48899626, 24695995.016829085, 12351151.446205523, 12108852.327553915, 14845370.966580207, 24534211.754871327, 20531115.12132182, 15195481.445260193, 4868603.028949871, 13315839.568957493, 9699759.42116696, 23422412.856612116, 17005798.36534027, 17361137.16322225, 6749415.534845233]\n"
     ]
    },
    {
     "data": {
      "image/png": "[encoded data removed]",
      "text/plain": [
       "<Figure size 432x288 with 1 Axes>"
      ]
     },
     "metadata": {
      "needs_background": "light"
     },
     "output_type": "display_data"
    }
   ],
   "source": [
    "# Make sure MSE List is 30\n",
    "print(\"Length of MSE:\", len(MSE_List))\n",
    "\n",
    "# Plot KDE of MSE\n",
    "sns.distplot(MSE_List, kde=True, rug=True)\n",
    "plt.title(\"KDE Plot of Model 1\")\n",
    "\n",
    "# Print MSE List\n",
    "print(\"MSE List\", MSE_List)"
   ]
  },
  {
   "cell_type": "markdown",
   "metadata": {},
   "source": [
    "#### Part ii\n",
    "What is E[MSE] for this model? "
   ]
  },
  {
   "cell_type": "code",
   "execution_count": 108,
   "metadata": {},
   "outputs": [
    {
     "name": "stdout",
     "output_type": "stream",
     "text": [
      "Expected Average: 15246857.771302955\n",
      "Ensemble Model: 14236393.232376566\n"
     ]
    }
   ],
   "source": [
    "# From the 30 MSE Values\n",
    "Expected_Value = np.average(MSE_List)\n",
    "print(\"Expected Average:\", Expected_Value)\n",
    "\n",
    "# From MSE From the Ensemble Model\n",
    "## Still an Insane Number\n",
    "MSE_Ensemble_Model = mean_squared_error(predictions,Y.values)\n",
    "print(\"Ensemble Model:\", MSE_Ensemble_Model)"
   ]
  },
  {
   "cell_type": "markdown",
   "metadata": {},
   "source": [
    "#### Part iii\n",
    "Compute the variance for this model."
   ]
  },
  {
   "cell_type": "code",
   "execution_count": 109,
   "metadata": {},
   "outputs": [
    {
     "name": "stdout",
     "output_type": "stream",
     "text": [
      "Expected Variance 0.7159426426549241\n",
      "Variance Ensemble Model: 0.7170279069557406\n"
     ]
    }
   ],
   "source": [
    "# My variance of the model is calculated using the SCKLEARN Variance Calculation of model\n",
    "# Since this model ran 30 times effectively. This is the average variance of each of the 30 models. \n",
    "Expected_Variance = np.average(Variance_List)\n",
    "print(\"Expected Variance\", Expected_Variance)\n",
    "\n",
    "## Calculate the Variance Of Ensembe Model \n",
    "Variance_Ensemble_Model = explained_variance_score(predictions, Y.values)\n",
    "print(\"Variance Ensemble Model:\", Variance_Ensemble_Model)"
   ]
  },
  {
   "cell_type": "markdown",
   "metadata": {},
   "source": [
    "#### Part iv\n",
    "Find the (bias)^2 + noise variance for this model, assuming E[MSE] is a good approximation for MSE."
   ]
  },
  {
   "cell_type": "code",
   "execution_count": 19,
   "metadata": {},
   "outputs": [
    {
     "name": "stdout",
     "output_type": "stream",
     "text": [
      "Bias^2 + Noise Variance: 14942703.531243471\n"
     ]
    }
   ],
   "source": [
    "# Calculate Using the Formula\n",
    "## Value Needs to be Normalized  to make sense\n",
    "bias_squared_noise_variance = Expected_Value - Expected_Variance\n",
    "print(\"Bias^2 + Noise Variance:\", bias_squared_noise_variance)"
   ]
  },
  {
   "cell_type": "markdown",
   "metadata": {},
   "source": [
    "#### Part v¶\n",
    "What is your impression of the variance of this model versus the (bias)^2 + noise variance for this model? "
   ]
  },
  {
   "cell_type": "markdown",
   "metadata": {},
   "source": [
    "### Part C\n",
    "The third model would be a more balanced model. I would try to drop some features but include a few more that were in the medium correlation levels. This should be a more balanced model that is probably closer to what Lasso or PCA would tell me to do.\n",
    "\n",
    "price = length + curb-weight + engine-size + horsepower + city-mpg + compression-ratio\n",
    "\n",
    "\n",
    "The third model would be a more balanced model. I would try to drop some features but include a few more that were in the medium correlation levels. This should be a more balanced model that is probably closer to what Lasso or PCA would tell me to do.\n",
    "price = length + curb-weight + engine-size + horsepower + city-mpg + compression-ratio"
   ]
  },
  {
   "cell_type": "code",
   "execution_count": 110,
   "metadata": {},
   "outputs": [
    {
     "name": "stdout",
     "output_type": "stream",
     "text": [
      "Variance List: [0.7852288450729838, 0.7887030219071635, 0.758771808715878, 0.7968895009155187, 0.7783066298523988, 0.7893201861629444, 0.7860536931348543, 0.8013797674647563, 0.7809566570064295, 0.7933237628254104, 0.7892161375677371, 0.7888610806465963, 0.7827521110480358, 0.7809953660328124, 0.7944707248654723, 0.7698655983303296, 0.803151836915587, 0.7795729474405353, 0.7883456760876808, 0.7943854064161546, 0.7969683273662796, 0.775181271934283, 0.7787989154350641, 0.7916373576488231, 0.793178311752869, 0.7696944016594314, 0.7921666164301203, 0.7920841053295334, 0.7875316501082186, 0.7917025963107976]\n"
     ]
    }
   ],
   "source": [
    "# We first set a new dataframe\n",
    "Model = read_data()\n",
    "\n",
    "# Create the X Variables in our model\n",
    "X = Model[[\"length\", \"curb-weight\", \"engine-size\", \"horsepower\", \"city-mpg\", \"compression-ratio\"]]\n",
    "\n",
    "# Create the Y Variable in our model\n",
    "Y = Model[\"price\"]\n",
    "\n",
    "K = 10\n",
    "kf = KFold(n_splits=10, shuffle=True)\n",
    "\n",
    "# Set Up Linear Regression\n",
    "Linear_Model = LinearRegression()\n",
    "\n",
    "MSE_List = []\n",
    "Variance_List = []\n",
    "Weights_List = []\n",
    "Y_Coefficients = []\n",
    "for i in range(3):\n",
    "    for train_index, test_index in kf.split(X):\n",
    "        # Split the Dataset\n",
    "        x_train, x_test = X.iloc[train_index], X.iloc[test_index]\n",
    "        y_train, y_test = Y.iloc[train_index], Y.iloc[test_index]\n",
    "        \n",
    "        # Set Up Linear Regression Model\n",
    "        Linear_Model.fit(x_train, y_train)\n",
    "        \n",
    "        # Linear Regression Coefficient\n",
    "        Weights_List.append(Linear_Model.coef_)\n",
    "\n",
    "        # Linear Regression Y Coefficient\n",
    "        Y_Coefficients.append(Linear_Model.intercept_)\n",
    "        \n",
    "        # Linear Model Predict\n",
    "        y_hat = Linear_Model.predict(x_test)\n",
    "        \n",
    "        # Calculate Variance of the whole model using the whole dataset\n",
    "        y_hat2 = Linear_Model.predict(X)\n",
    "        var_score = explained_variance_score(y_hat2, Y)\n",
    "        Variance_List.append(var_score)\n",
    "        \n",
    "        ## Now I can calculate the MSE using Scikit Learning\n",
    "        MSE = mean_squared_error(y_test, y_hat)\n",
    "        MSE_List.append(MSE)\n",
    "\n",
    "print(\"Variance List:\", Variance_List)"
   ]
  },
  {
   "cell_type": "code",
   "execution_count": 111,
   "metadata": {},
   "outputs": [
    {
     "name": "stdout",
     "output_type": "stream",
     "text": [
      "Number of models: 30\n",
      "Coefficient of the Model\n",
      "[ 38.53471219   1.70833701 100.63926384  53.16273245 -38.10114167\n",
      " 185.69886037]\n",
      "Y Coefficient -17132.570274776877\n"
     ]
    }
   ],
   "source": [
    "# Lets Arrange the Ensemble Model\n",
    "print(\"Number of models:\", len(Variance_List))\n",
    "\n",
    "# Coefficient of Model\n",
    "coefficients = np.mean(Weights_List, axis=0)\n",
    "print(\"Coefficient of the Model\")\n",
    "print(coefficients)\n",
    "\n",
    "# Y Coefficient\n",
    "y_coefficient = np.mean(Y_Coefficients)\n",
    "print(\"Y Coefficient\", y_coefficient)\n",
    "\n",
    "# Calculate Predictions\n",
    "predictions = predict(X.values, coefficients,y_coefficient)"
   ]
  },
  {
   "cell_type": "markdown",
   "metadata": {},
   "source": [
    "#### Part i\n",
    "Plot a kernel density estimate for the mean square error (MSE) for this model? "
   ]
  },
  {
   "cell_type": "code",
   "execution_count": 21,
   "metadata": {},
   "outputs": [
    {
     "name": "stdout",
     "output_type": "stream",
     "text": [
      "Length of MSE: 30\n",
      "MSE List [17441058.14234566, 18712174.69353188, 7644597.10597256, 12797285.38282879, 11636193.641148783, 12135421.006271156, 15743082.662625486, 4592940.151504234, 12852680.944309654, 13710657.272582065, 8035845.81803895, 12917603.133972337, 6772589.0169018535, 28453318.225297026, 20463643.053541087, 10813834.150273293, 7550866.3659168435, 13558498.32814019, 13867580.606508229, 3041405.573492462, 24810493.603846706, 9000826.331547992, 4779624.378361704, 15888114.90210168, 6957055.8931182455, 14717462.218629912, 11474981.730179176, 12301404.19993215, 23540770.874215726, 10952671.844095701]\n"
     ]
    },
    {
     "data": {
      "image/png": "[encoded data removed]",
      "text/plain": [
       "<Figure size 432x288 with 1 Axes>"
      ]
     },
     "metadata": {
      "needs_background": "light"
     },
     "output_type": "display_data"
    }
   ],
   "source": [
    "# Make sure MSE List is 30\n",
    "print(\"Length of MSE:\", len(MSE_List))\n",
    "\n",
    "# Plot KDE of MSE\n",
    "sns.distplot(MSE_List, kde=True, rug=True)\n",
    "plt.title(\"KDE Plot of Model 1\")\n",
    "\n",
    "# Print MSE List\n",
    "print(\"MSE List\", MSE_List)"
   ]
  },
  {
   "cell_type": "markdown",
   "metadata": {},
   "source": [
    "#### Part ii\n",
    "What is E[MSE] for this model? "
   ]
  },
  {
   "cell_type": "code",
   "execution_count": 112,
   "metadata": {},
   "outputs": [
    {
     "name": "stdout",
     "output_type": "stream",
     "text": [
      "Expected Average: 12857638.311436057\n",
      "Ensemble Model: 11274894.563646311\n"
     ]
    }
   ],
   "source": [
    "# From the 30 MSE Values\n",
    "Expected_Value = np.average(MSE_List)\n",
    "print(\"Expected Average:\", Expected_Value)\n",
    "\n",
    "# From MSE From the Ensemble Model\n",
    "## Still an Insane Number\n",
    "MSE_Ensemble_Model = mean_squared_error(predictions,Y.values)\n",
    "print(\"Ensemble Model:\", MSE_Ensemble_Model)"
   ]
  },
  {
   "cell_type": "markdown",
   "metadata": {},
   "source": [
    "#### Part iii\n",
    "Compute the variance for this model."
   ]
  },
  {
   "cell_type": "code",
   "execution_count": 113,
   "metadata": {},
   "outputs": [
    {
     "name": "stdout",
     "output_type": "stream",
     "text": [
      "Expected Variance 0.7866498104128232\n",
      "Variance Ensemble Model: 0.7882740917584365\n"
     ]
    }
   ],
   "source": [
    "# My variance of the model is calculated using the SCKLEARN Variance Calculation of model\n",
    "# Since this model ran 30 times effectively. This is the average variance of each of the 30 models. \n",
    "Expected_Variance = np.average(Variance_List)\n",
    "print(\"Expected Variance\", Expected_Variance)\n",
    "\n",
    "## Calculate the Variance Of Ensembe Model \n",
    "Variance_Ensemble_Model = explained_variance_score(predictions, Y.values)\n",
    "print(\"Variance Ensemble Model:\", Variance_Ensemble_Model)"
   ]
  },
  {
   "cell_type": "markdown",
   "metadata": {},
   "source": [
    "#### Part iv\n",
    "Find the (bias)^2 + noise variance for this model, assuming E[MSE] is a good approximation for MSE."
   ]
  },
  {
   "cell_type": "code",
   "execution_count": 114,
   "metadata": {},
   "outputs": [
    {
     "name": "stdout",
     "output_type": "stream",
     "text": [
      "Bias^2 + Noise Variance: 12857637.524786247\n"
     ]
    }
   ],
   "source": [
    "# Calculate Using the Formula\n",
    "## Value Needs to be Normalized  to make sense\n",
    "bias_squared_noise_variance = Expected_Value - Expected_Variance\n",
    "print(\"Bias^2 + Noise Variance:\", bias_squared_noise_variance)"
   ]
  },
  {
   "cell_type": "markdown",
   "metadata": {},
   "source": [
    "#### Part v\n",
    "What is your impression of the variance of this model versus the (bias)^2 + noise variance for this model? "
   ]
  },
  {
   "cell_type": "markdown",
   "metadata": {},
   "source": [
    "## Problem 2"
   ]
  },
  {
   "cell_type": "markdown",
   "metadata": {},
   "source": [
    "### Part A"
   ]
  },
  {
   "cell_type": "markdown",
   "metadata": {},
   "source": [
    "The first model I propose is a sort of null model. Basically a model running all of the 13 features. With this model I can establish a baseline to compare the performance of models with smaller features.\n",
    "\n",
    "price = wheel-base + length + width + height + curb-weight + engine-size + bore + stroke + compression-ratio + horsepower + peak-rpm + city-mpg + highway-mpg"
   ]
  },
  {
   "cell_type": "code",
   "execution_count": 120,
   "metadata": {},
   "outputs": [
    {
     "name": "stdout",
     "output_type": "stream",
     "text": [
      "Shape of X: (195, 13)\n"
     ]
    },
    {
     "ename": "AttributeError",
     "evalue": "'linearRegression' object has no attribute 'data'",
     "output_type": "error",
     "traceback": [
      "\u001b[1;31m---------------------------------------------------------------------------\u001b[0m",
      "\u001b[1;31mAttributeError\u001b[0m                            Traceback (most recent call last)",
      "\u001b[1;32m<ipython-input-120-9385bf3fec18>\u001b[0m in \u001b[0;36m<module>\u001b[1;34m\u001b[0m\n\u001b[0;32m     59\u001b[0m \u001b[1;33m\u001b[0m\u001b[0m\n\u001b[0;32m     60\u001b[0m         \u001b[1;31m# Print Model Information\u001b[0m\u001b[1;33m\u001b[0m\u001b[1;33m\u001b[0m\u001b[1;33m\u001b[0m\u001b[0m\n\u001b[1;32m---> 61\u001b[1;33m         \u001b[0mprint\u001b[0m\u001b[1;33m(\u001b[0m\u001b[0mmodel\u001b[0m\u001b[1;33m.\u001b[0m\u001b[0mdata\u001b[0m\u001b[1;33m[\u001b[0m\u001b[1;36m0\u001b[0m\u001b[1;33m]\u001b[0m\u001b[1;33m[\u001b[0m\u001b[1;36m0\u001b[0m\u001b[1;33m]\u001b[0m\u001b[1;33m)\u001b[0m\u001b[1;33m\u001b[0m\u001b[1;33m\u001b[0m\u001b[0m\n\u001b[0m\u001b[0;32m     62\u001b[0m \u001b[1;33m\u001b[0m\u001b[0m\n\u001b[0;32m     63\u001b[0m         \u001b[1;31m# Test Prediction of the Model\u001b[0m\u001b[1;33m\u001b[0m\u001b[1;33m\u001b[0m\u001b[1;33m\u001b[0m\u001b[0m\n",
      "\u001b[1;32m~\\Anaconda3\\envs\\Artificial\\lib\\site-packages\\torch\\nn\\modules\\module.py\u001b[0m in \u001b[0;36m__getattr__\u001b[1;34m(self, name)\u001b[0m\n\u001b[0;32m    574\u001b[0m                 \u001b[1;32mreturn\u001b[0m \u001b[0mmodules\u001b[0m\u001b[1;33m[\u001b[0m\u001b[0mname\u001b[0m\u001b[1;33m]\u001b[0m\u001b[1;33m\u001b[0m\u001b[1;33m\u001b[0m\u001b[0m\n\u001b[0;32m    575\u001b[0m         raise AttributeError(\"'{}' object has no attribute '{}'\".format(\n\u001b[1;32m--> 576\u001b[1;33m             type(self).__name__, name))\n\u001b[0m\u001b[0;32m    577\u001b[0m \u001b[1;33m\u001b[0m\u001b[0m\n\u001b[0;32m    578\u001b[0m     \u001b[1;32mdef\u001b[0m \u001b[0m__setattr__\u001b[0m\u001b[1;33m(\u001b[0m\u001b[0mself\u001b[0m\u001b[1;33m,\u001b[0m \u001b[0mname\u001b[0m\u001b[1;33m,\u001b[0m \u001b[0mvalue\u001b[0m\u001b[1;33m)\u001b[0m\u001b[1;33m:\u001b[0m\u001b[1;33m\u001b[0m\u001b[1;33m\u001b[0m\u001b[0m\n",
      "\u001b[1;31mAttributeError\u001b[0m: 'linearRegression' object has no attribute 'data'"
     ]
    }
   ],
   "source": [
    "# We first set a new dataframe\n",
    "Model = read_data()\n",
    "Model2 = read_data()\n",
    "\n",
    "# Create the X Variables in our model\n",
    "X = Model[[\"wheel-base\", \"length\", \"width\", \"height\", \"curb-weight\", \"engine-size\", \"bore\", \"stroke\",\n",
    "          \"compression-ratio\", \"horsepower\", \"peak-rpm\", \"city-mpg\", \"highway-mpg\"]]    \n",
    "X2 = Model2[[\"wheel-base\", \"length\", \"width\", \"height\", \"curb-weight\", \"engine-size\", \"bore\", \"stroke\",\n",
    "          \"compression-ratio\", \"horsepower\", \"peak-rpm\", \"city-mpg\", \"highway-mpg\"]]    \n",
    "\n",
    "print(\"Shape of X:\",X.shape)\n",
    "\n",
    "# Create the Y Variable in our model\n",
    "Y = Model[\"price\"]\n",
    "Y2 = Model2[\"price\"]\n",
    "\n",
    "\n",
    "# Set Up The K-Folds\n",
    "K = 10\n",
    "kf = KFold(n_splits=10, shuffle=True)\n",
    "\n",
    "MSE_List = []\n",
    "Variance_List = []\n",
    "Weights_List = []\n",
    "Y_Coefficients = []\n",
    "for i in range(3):\n",
    "    for train_index, test_index in kf.split(X):\n",
    "        # Split the Dataset\n",
    "        x_train, x_test = X.iloc[train_index], X.iloc[test_index]\n",
    "        y_train, y_test = Y.iloc[train_index], Y.iloc[test_index]\n",
    "        # Turn values into tensors\n",
    "        X_train_tensor = torch.tensor(x_train.values)\n",
    "        X_test_tensor = torch.tensor(x_test.values)\n",
    "        Y_train_tensor = torch.tensor(y_train.values).reshape(-1, 1)\n",
    "        Y_test_tensor = torch.tensor(y_test.values).reshape(-1,1)\n",
    "\n",
    "        # Set up the Model\n",
    "        Num_Features = X.shape[1]  # takes variable 'x'\n",
    "        outputDim = 1  # takes variable 'y'\n",
    "        learningRate = 0.001\n",
    "        epochs = 400\n",
    "\n",
    "        model = linearRegression(Num_Features)\n",
    "        criterion = torch.nn.L1Loss()\n",
    "        optimizer = torch.optim.SGD(model.parameters(), lr=learningRate)\n",
    "\n",
    "        # Run through the model\n",
    "        for j in range(epochs):\n",
    "            # Clear Gradients\n",
    "            optimizer.zero_grad()\n",
    "            # Run Model\n",
    "            outputs = model.forward(X_train_tensor.float())\n",
    "            # Get Lost for Predicted Output\n",
    "            loss = criterion(outputs, Y_train_tensor.float())\n",
    "            # Backward Propogation\n",
    "            loss.backward()\n",
    "            # Update Parameters\n",
    "            optimizer.step()\n",
    "        \n",
    "        # Print Model Information\n",
    "        print(model.data[0][0])\n",
    "\n",
    "        # Test Prediction of the Model\n",
    "        optimizer.zero_grad()\n",
    "        y_hat = model(X_test_tensor.float())\n",
    "\n",
    "        # Calculate MSE\n",
    "        ## Convert to Numpy\n",
    "        y_hat = y_hat.detach().numpy()\n",
    "        Y_test_tensor = Y_test_tensor.numpy()\n",
    "        \n",
    "        # Calculate the Variance for each model\n",
    "        Y2_tensor = torch.tensor(Y2.values)                                           # Turn X Dataframe to Tensors\n",
    "        X2_tensor =torch.tensor(X2.values)                                            # Turn Y Dataframe to Tensors\n",
    "        y_hat2 = model(X2_tensor.float())                                             # Calculate Prediction\n",
    "        var_score = explained_variance_score(y_hat2.detach().numpy(), Y2_tensor)\n",
    "        Variance_List.append(var_score)\n",
    "        \n",
    "        ## Now I can calculate the MSE using Scikit Learning\n",
    "        MSE = mean_squared_error(Y_test_tensor, y_hat)\n",
    "        MSE_List.append(MSE)\n",
    "\n",
    "print(MSE_List)"
   ]
  },
  {
   "cell_type": "markdown",
   "metadata": {
    "heading_collapsed": true
   },
   "source": [
    "#### Part i\n",
    "\n",
    "Plot a kernel density estimate for the mean square error (MSE) for this model. (Each fold yields an estimate of MSE; find the kernel density estimate using the 30 samples of MSE)"
   ]
  },
  {
   "cell_type": "code",
   "execution_count": 47,
   "metadata": {
    "hidden": true
   },
   "outputs": [
    {
     "name": "stdout",
     "output_type": "stream",
     "text": [
      "Length of MSE: 30\n"
     ]
    },
    {
     "data": {
      "text/plain": [
       "Text(0.5, 1.0, 'KDE Plot of Model 1')"
      ]
     },
     "execution_count": 47,
     "metadata": {},
     "output_type": "execute_result"
    },
    {
     "data": {
      "image/png": "[encoded data removed]",
      "text/plain": [
       "<Figure size 432x288 with 1 Axes>"
      ]
     },
     "metadata": {
      "needs_background": "light"
     },
     "output_type": "display_data"
    }
   ],
   "source": [
    "# Make sure MSE List is 30\n",
    "print(\"Length of MSE:\", len(MSE_List))\n",
    "\n",
    "# Plot KDE of MSE\n",
    "sns.distplot(MSE_List, kde=True, rug=True)\n",
    "plt.title(\"KDE Plot of Model 1\")"
   ]
  },
  {
   "cell_type": "markdown",
   "metadata": {},
   "source": [
    "#### Part ii\n",
    "\n",
    "What is E[MSE] for this model?"
   ]
  },
  {
   "cell_type": "code",
   "execution_count": 48,
   "metadata": {},
   "outputs": [
    {
     "name": "stdout",
     "output_type": "stream",
     "text": [
      "Expected Average: 84781012.23399039\n"
     ]
    }
   ],
   "source": [
    "# Expected Value of the MSE\n",
    "Expected_Value = np.average(MSE_List)\n",
    "print(\"Expected Average:\", Expected_Value)"
   ]
  },
  {
   "cell_type": "markdown",
   "metadata": {},
   "source": [
    "#### Part iii\n",
    "\n",
    "Compute the variance for this model? "
   ]
  },
  {
   "cell_type": "code",
   "execution_count": 49,
   "metadata": {},
   "outputs": [
    {
     "name": "stdout",
     "output_type": "stream",
     "text": [
      "Variance: 1466306021314122.5\n"
     ]
    }
   ],
   "source": [
    "# My variance of the model is calculated using the SCKLEARN Variance Calculation of model\n",
    "# Since this model ran 30 times effectively. This is the average variance of each of the 30 models. \n",
    "Expected_Variance = np.average(Variance_List)\n",
    "print(\"Expected Variance\", Expected_Variance)"
   ]
  },
  {
   "cell_type": "markdown",
   "metadata": {},
   "source": [
    "#### Part iv\n",
    "Find the (bias)^2 + noise variance for this model, assuming E[MSE] is a good approximation for MSE. "
   ]
  },
  {
   "cell_type": "code",
   "execution_count": 50,
   "metadata": {},
   "outputs": [
    {
     "name": "stdout",
     "output_type": "stream",
     "text": [
      "Bias^2 + Noise Variance: -1466305936533110.2\n"
     ]
    }
   ],
   "source": [
    "# Calculate Using the Formula\n",
    "bias_squared_noise_variance = Expected_Value - Variance\n",
    "print(\"Bias^2 + Noise Variance:\", bias_squared_noise_variance)"
   ]
  },
  {
   "cell_type": "markdown",
   "metadata": {},
   "source": [
    "### Part B"
   ]
  },
  {
   "cell_type": "markdown",
   "metadata": {},
   "source": [
    "The second model would be the least feature model. Meaning that for this model I would try to use the least amount of features. The features chosen are comming directly from correlation. So this model is at the very low range of the spectrum. And I am dropping features that did not show any correlation with price or anything else in the previous exercises.\n",
    "\n",
    "price = curb-weight + horsepower + city-mpg"
   ]
  },
  {
   "cell_type": "code",
   "execution_count": 46,
   "metadata": {},
   "outputs": [
    {
     "name": "stdout",
     "output_type": "stream",
     "text": [
      "MSE List [72936312.85564327, 43686473.00685511, 90017773.38808036, 35706675.29639001, 9096085.424633455, 18817571.25762869, 24394352.157975648, 23302730.520471636, 12695414.142488128, 92159832.99717146, 54155454.84199263, 27518862.270182002, 54195746.75426593, 40109158.281462535, 59588068.39343534, 20150323.834451325, 69217718.56661397, 11353751.917285832, 47667827.27982268, 45535836.29760623, 33673595.637735605, 36096557.50122764, 58607213.75093198, 31691939.760589935, 29635094.178789854, 28880160.951571666, 13646946.9110644, 84203820.71719807, 46888256.3414539, 74317589.73383383]\n",
      "Variance List [-6.246583871503852, -6.471634335831941, -5.455829584403163, -5.269055287923996, -6.266650589276153, -6.015663611192332, -5.117485298864565, -6.27112859850877, -5.699131860509485, -6.22445638213069, -5.753297650821365, -6.158657469142585, -5.208290544590232, -6.401245751975725, -6.254875683191226, -6.453385242509686, -6.399638017624207, -6.406341745070111, -6.635270824424161, -5.355924214747196, -6.438141952722156, -5.963988474625498, -6.469461854688614, -6.515265055043869, -6.358704189489235, -5.250480265393393, -6.6003496029246955, -6.457290191051653, -5.647001821279517, -6.300371566002453]\n"
     ]
    }
   ],
   "source": [
    "# We first set a new dataframe\n",
    "Model = read_data()\n",
    "Model2 = read_data()\n",
    "\n",
    "# Create the X Variables in our model\n",
    "X = Model[[\"curb-weight\", \"horsepower\", \"city-mpg\"]]\n",
    "X2 = Model2[[\"curb-weight\", \"horsepower\", \"city-mpg\"]]\n",
    "\n",
    "\n",
    "# Create the Y Variable in our model\n",
    "Y = Model[\"price\"]\n",
    "Y2 = Model2[\"price\"]\n",
    "\n",
    "# Set Up The K-Folds\n",
    "K = 10\n",
    "kf = KFold(n_splits=10, shuffle=True)\n",
    "\n",
    "MSE_List = []\n",
    "Variance_List = []\n",
    "for i in range(3):\n",
    "    for train_index, test_index in kf.split(X):\n",
    "        # Split the Dataset\n",
    "        x_train, x_test = X.iloc[train_index], X.iloc[test_index]\n",
    "        y_train, y_test = Y.iloc[train_index], Y.iloc[test_index]\n",
    "        # Turn values into tensors\n",
    "        X_train_tensor = torch.tensor(x_train.values)\n",
    "        X_test_tensor = torch.tensor(x_test.values)\n",
    "        Y_train_tensor = torch.tensor(y_train.values).reshape(-1, 1)\n",
    "        Y_test_tensor = torch.tensor(y_test.values).reshape(-1,1)\n",
    "\n",
    "        # Set up the Model\n",
    "        Num_Features = 3  # takes variable 'x'\n",
    "        outputDim = 1  # takes variable 'y'\n",
    "        learningRate = 0.001\n",
    "        epochs = 400\n",
    "\n",
    "        model = linearRegression(Num_Features)\n",
    "        criterion = torch.nn.L1Loss()\n",
    "        optimizer = torch.optim.SGD(model.parameters(), lr=learningRate)\n",
    "\n",
    "        # Run through the model\n",
    "        for j in range(epochs):\n",
    "            # Clear Gradients\n",
    "            optimizer.zero_grad()\n",
    "            # Run Model\n",
    "            outputs = model.forward(X_train_tensor.float())\n",
    "            # Get Lost for Predicted Output\n",
    "            loss = criterion(outputs, Y_train_tensor.float())\n",
    "            # Backward Propogation\n",
    "            loss.backward()\n",
    "            # Update Parameters\n",
    "            optimizer.step()\n",
    "\n",
    "        # Test Prediction of the Model\n",
    "        optimizer.zero_grad()\n",
    "        y_hat = model(X_test_tensor.float())\n",
    "\n",
    "        # Get the Variance of the Model \n",
    "        X3 = torch.tensor(X2.values)\n",
    "        y_hat2 = model(X3.float())\n",
    "        var_score = explained_variance_score(y_hat2.detach().numpy(), Y2)\n",
    "        Variance_List.append(var_score)\n",
    "        \n",
    "        # Calculate MSE\n",
    "        ## Convert to Numpy\n",
    "        y_hat = y_hat.detach().numpy()\n",
    "        Y_test_tensor = Y_test_tensor.numpy()\n",
    "\n",
    "        ## Now I can calculate the MSE using Scikit Learning\n",
    "        MSE = mean_squared_error(Y_test_tensor, y_hat)\n",
    "        MSE_List.append(MSE)\n",
    "\n",
    "print(\"MSE List\",MSE_List)\n",
    "print(\"Variance List\", Variance_List)"
   ]
  },
  {
   "cell_type": "markdown",
   "metadata": {},
   "source": [
    "#### Part i\n",
    "Plot a kernel density estimate for the mean square error (MSE) for this model. (Each fold yields an estimate of MSE; find the kernel density estimate using the 30 samples of MSE)"
   ]
  },
  {
   "cell_type": "code",
   "execution_count": 47,
   "metadata": {},
   "outputs": [
    {
     "name": "stdout",
     "output_type": "stream",
     "text": [
      "Length of MSE: 30\n"
     ]
    },
    {
     "data": {
      "text/plain": [
       "Text(0.5, 1.0, 'KDE Plot of Model 2')"
      ]
     },
     "execution_count": 47,
     "metadata": {},
     "output_type": "execute_result"
    },
    {
     "data": {
      "image/png": "[encoded data removed]",
      "text/plain": [
       "<Figure size 432x288 with 1 Axes>"
      ]
     },
     "metadata": {
      "needs_background": "light"
     },
     "output_type": "display_data"
    }
   ],
   "source": [
    "# Make sure MSE List is 30\n",
    "print(\"Length of MSE:\", len(MSE_List))\n",
    "\n",
    "# Plot KDE of MSE\n",
    "sns.distplot(MSE_List, kde=True, rug=True)\n",
    "plt.title(\"KDE Plot of Model 2\")"
   ]
  },
  {
   "cell_type": "markdown",
   "metadata": {},
   "source": [
    "#### Part ii\n",
    "What is E[MSE] for this model?"
   ]
  },
  {
   "cell_type": "code",
   "execution_count": 53,
   "metadata": {},
   "outputs": [
    {
     "name": "stdout",
     "output_type": "stream",
     "text": [
      "Expected Average: 42362324.489392154\n"
     ]
    }
   ],
   "source": [
    "# Expected Value of the MSE\n",
    "Expected_Value = np.average(MSE_List)\n",
    "print(\"Expected Average:\", Expected_Value)"
   ]
  },
  {
   "cell_type": "markdown",
   "metadata": {},
   "source": [
    "#### Part iii\n",
    "Compute the variance for this model? "
   ]
  },
  {
   "cell_type": "code",
   "execution_count": 48,
   "metadata": {},
   "outputs": [
    {
     "name": "stdout",
     "output_type": "stream",
     "text": [
      "Expected Variance -6.068853384582084\n"
     ]
    }
   ],
   "source": [
    "# My variance of the model is calculated using the SCKLEARN Variance Calculation of model\n",
    "# Since this model ran 30 times effectively. This is the average variance of each of the 30 models. \n",
    "Expected_Variance = np.average(Variance_List)\n",
    "print(\"Expected Variance\", Expected_Variance)"
   ]
  },
  {
   "cell_type": "markdown",
   "metadata": {},
   "source": [
    "#### Part iv\n",
    "Find the (bias)^2 + noise variance for this model, assuming E[MSE] is a good approximation for MSE. "
   ]
  },
  {
   "cell_type": "code",
   "execution_count": 55,
   "metadata": {},
   "outputs": [
    {
     "name": "stdout",
     "output_type": "stream",
     "text": [
      "Bias^2 + Noise Variance: -454409509859692.9\n"
     ]
    }
   ],
   "source": [
    "# Calculate Using the Formula\n",
    "bias_squared_noise_variance = Expected_Value - Variance\n",
    "print(\"Bias^2 + Noise Variance:\", bias_squared_noise_variance)"
   ]
  },
  {
   "cell_type": "markdown",
   "metadata": {},
   "source": [
    "### Part C"
   ]
  },
  {
   "cell_type": "markdown",
   "metadata": {},
   "source": [
    "The third model would be a more balanced model. I would try to drop some features but include a few more that were in the medium correlation levels. This should be a more balanced model that is probably closer to what Lasso or PCA would tell me to do.\n",
    "\n",
    "price = length + curb-weight + engine-size + horsepower + city-mpg + compression-ratio"
   ]
  },
  {
   "cell_type": "code",
   "execution_count": 58,
   "metadata": {},
   "outputs": [
    {
     "name": "stdout",
     "output_type": "stream",
     "text": [
      "Shape of X: (195, 6)\n",
      "[26515033.37757287, 44403656.21517376, 32539174.158147026, 76784061.66195627, 21195074.110623192, 48550562.25457844, 90341303.47658747, 40937684.834712595, 12924583.874978216, 15301970.515246391, 3918277.6666802643, 65246543.400420345, 9240877.300740313, 34369818.07316943, 68093235.07711315, 19137352.665424157, 65771340.89894301, 14462795.409909964, 25714028.383989234, 95885661.10615243, 63658143.4228168, 16531656.538605142, 87911157.76589975, 3319945.5904814242, 61915262.87101116, 19572922.169135507, 40226374.29127679, 13438098.554337552, 72052903.30905691, 25609638.084672403]\n"
     ]
    }
   ],
   "source": [
    "# We first set a new dataframe\n",
    "Model = read_data()\n",
    "\n",
    "# Create the X Variables in our model\n",
    "X = Model[[\"length\", \"curb-weight\", \"engine-size\", \"horsepower\", \"city-mpg\", \"compression-ratio\"]]\n",
    "print(\"Shape of X:\",X.shape)\n",
    "\n",
    "# Create the Y Variable in our model\n",
    "Y = Model[\"price\"]\n",
    "\n",
    "# Set Up The K-Folds\n",
    "K = 10\n",
    "kf = KFold(n_splits=10, shuffle=True)\n",
    "\n",
    "MSE_List = []\n",
    "for i in range(3):\n",
    "    for train_index, test_index in kf.split(X):\n",
    "        # Split the Dataset\n",
    "        x_train, x_test = X.iloc[train_index], X.iloc[test_index]\n",
    "        y_train, y_test = Y.iloc[train_index], Y.iloc[test_index]\n",
    "        # Turn values into tensors\n",
    "        X_train_tensor = torch.tensor(x_train.values)\n",
    "        X_test_tensor = torch.tensor(x_test.values)\n",
    "        Y_train_tensor = torch.tensor(y_train.values).reshape(-1, 1)\n",
    "        Y_test_tensor = torch.tensor(y_test.values).reshape(-1,1)\n",
    "\n",
    "        # Set up the Model\n",
    "        Num_Features = X.shape[1]  # takes variable 'x'\n",
    "        outputDim = 1  # takes variable 'y'\n",
    "        learningRate = 0.001\n",
    "        epochs = 400\n",
    "\n",
    "        model = linearRegression(Num_Features)\n",
    "        criterion = torch.nn.L1Loss()\n",
    "        optimizer = torch.optim.SGD(model.parameters(), lr=learningRate)\n",
    "\n",
    "        # Run through the model\n",
    "        for j in range(epochs):\n",
    "            # Clear Gradients\n",
    "            optimizer.zero_grad()\n",
    "            # Run Model\n",
    "            outputs = model.forward(X_train_tensor.float())\n",
    "            # Get Lost for Predicted Output\n",
    "            loss = criterion(outputs, Y_train_tensor.float())\n",
    "            # Backward Propogation\n",
    "            loss.backward()\n",
    "            # Update Parameters\n",
    "            optimizer.step()\n",
    "\n",
    "        # Test Prediction of the Model\n",
    "        optimizer.zero_grad()\n",
    "        y_hat = model(X_test_tensor.float())\n",
    "\n",
    "        # Calculate MSE\n",
    "        ## Convert to Numpy\n",
    "        y_hat = y_hat.detach().numpy()\n",
    "        Y_test_tensor = Y_test_tensor.numpy()\n",
    "\n",
    "        ## Now I can calculate the MSE using Scikit Learning\n",
    "        MSE = mean_squared_error(Y_test_tensor, y_hat)\n",
    "        MSE_List.append(MSE)\n",
    "\n",
    "print(MSE_List)"
   ]
  },
  {
   "cell_type": "markdown",
   "metadata": {},
   "source": [
    "#### Part i\n",
    "\n",
    "Plot a kernel density estimate for the mean square error (MSE) for this model. (Each fold yields an estimate of MSE; find the kernel density estimate using the 30 samples of MSE)"
   ]
  },
  {
   "cell_type": "code",
   "execution_count": 59,
   "metadata": {},
   "outputs": [
    {
     "name": "stdout",
     "output_type": "stream",
     "text": [
      "Length of MSE: 30\n"
     ]
    },
    {
     "data": {
      "text/plain": [
       "Text(0.5, 1.0, 'KDE Plot of Model 1')"
      ]
     },
     "execution_count": 59,
     "metadata": {},
     "output_type": "execute_result"
    },
    {
     "data": {
      "image/png": "[encoded data removed]",
      "text/plain": [
       "<Figure size 432x288 with 1 Axes>"
      ]
     },
     "metadata": {
      "needs_background": "light"
     },
     "output_type": "display_data"
    }
   ],
   "source": [
    "# Make sure MSE List is 30\n",
    "print(\"Length of MSE:\", len(MSE_List))\n",
    "\n",
    "# Plot KDE of MSE\n",
    "sns.distplot(MSE_List, kde=True, rug=True)\n",
    "plt.title(\"KDE Plot of Model 3\")"
   ]
  },
  {
   "cell_type": "markdown",
   "metadata": {},
   "source": [
    "#### Part ii\n",
    "\n",
    "What is E[MSE] for this model?"
   ]
  },
  {
   "cell_type": "code",
   "execution_count": 60,
   "metadata": {},
   "outputs": [
    {
     "name": "stdout",
     "output_type": "stream",
     "text": [
      "Expected Average: 40518971.235313736\n"
     ]
    }
   ],
   "source": [
    "# Expected Value of the MSE\n",
    "Expected_Value = np.average(MSE_List)\n",
    "print(\"Expected Average:\", Expected_Value)"
   ]
  },
  {
   "cell_type": "markdown",
   "metadata": {},
   "source": [
    "#### Part iii\n",
    "\n",
    "Compute the variance for this model? "
   ]
  },
  {
   "cell_type": "code",
   "execution_count": 61,
   "metadata": {},
   "outputs": [
    {
     "name": "stdout",
     "output_type": "stream",
     "text": [
      "Variance: 742699585832552.1\n"
     ]
    }
   ],
   "source": [
    "# Calculate Expected Variance \n",
    "Variance = np.var(MSE_List)\n",
    "print(\"Variance:\", Variance)"
   ]
  },
  {
   "cell_type": "markdown",
   "metadata": {},
   "source": [
    "#### Part iv\n",
    "\n",
    "Find the (bias)^2 + noise variance for this model, assuming E[MSE] is a good approximation for MSE. "
   ]
  },
  {
   "cell_type": "code",
   "execution_count": 63,
   "metadata": {},
   "outputs": [
    {
     "name": "stdout",
     "output_type": "stream",
     "text": [
      "Bias^2 + Noise Variance: -742699545313580.9\n"
     ]
    }
   ],
   "source": [
    "# Calculate Using the Formula\n",
    "bias_squared_noise_variance = Expected_Value - Variance\n",
    "print(\"Bias^2 + Noise Variance:\", bias_squared_noise_variance)"
   ]
  },
  {
   "cell_type": "code",
   "execution_count": null,
   "metadata": {},
   "outputs": [],
   "source": []
  }
 ],
 "metadata": {
  "kernelspec": {
   "display_name": "Python 3",
   "language": "python",
   "name": "python3"
  },
  "language_info": {
   "codemirror_mode": {
    "name": "ipython",
    "version": 3
   },
   "file_extension": ".py",
   "mimetype": "text/x-python",
   "name": "python",
   "nbconvert_exporter": "python",
   "pygments_lexer": "ipython3",
   "version": "3.7.6"
  },
  "toc": {
   "base_numbering": 1,
   "nav_menu": {},
   "number_sections": false,
   "sideBar": true,
   "skip_h1_title": true,
   "title_cell": "Table of Contents",
   "title_sidebar": "Contents",
   "toc_cell": false,
   "toc_position": {
    "height": "calc(100% - 180px)",
    "left": "10px",
    "top": "150px",
    "width": "298.13px"
   },
   "toc_section_display": true,
   "toc_window_display": true
  }
 },
 "nbformat": 4,
 "nbformat_minor": 2
}
