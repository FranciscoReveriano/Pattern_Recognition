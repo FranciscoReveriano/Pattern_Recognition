{
 "cells": [
  {
   "cell_type": "markdown",
   "metadata": {},
   "source": [
    "# Homework #3: Cross-Validation and Norms\n",
    "\n",
    "by Francisco Reveriano\n"
   ]
  },
  {
   "cell_type": "code",
   "execution_count": 11,
   "metadata": {},
   "outputs": [],
   "source": [
    "import pandas as pd\n",
    "import numpy as np\n",
    "import matplotlib.pyplot as plt\n",
    "import seaborn as sns\n",
    "%matplotlib inline\n",
    "from tqdm.notebook import trange, tqdm\n",
    "from sklearn.linear_model import LinearRegression\n",
    "from sklearn.metrics import r2_score\n",
    "from sklearn.model_selection import KFold\n",
    "from sklearn.model_selection import cross_val_score\n",
    "from sklearn.metrics import mean_squared_error\n",
    "import torch"
   ]
  },
  {
   "cell_type": "code",
   "execution_count": 43,
   "metadata": {},
   "outputs": [],
   "source": [
    "# Inherit Linear Data\n",
    "class linearRegression(torch.nn.Module):\n",
    "    def __init__(self, n_features):\n",
    "        super(linearRegression, self).__init__()\n",
    "        self.linear = torch.nn.Linear(in_features=n_features, out_features=1)\n",
    "\n",
    "    def forward(self, x):\n",
    "        return self.linear(x)\n",
    "\n",
    "# Read Data\n",
    "def read_data():\n",
    "    # The first part is reading the dataset. With Pandas I can treat the dataset as if it was a .csv file.\n",
    "    data = pd.read_csv(\"/home/franciscoAML/Documents/ECE_580/Homework03_Cross_Validation_and_Norms/imports-85.data\", header=None)\n",
    "\n",
    "    # At this point the dataset has no header. It is easier for me to place a header to make it easier to choose columns\n",
    "    headers = [\"symboling\", \"normalized-losses\", \"make\", \"fuel-type\", \"aspiration\", \"num-of-doors\", \"body-style\",\n",
    "               \"drive-wheels\", \"engine-location\", \"wheel-base\", \"length\", \"width\", \"height\", \"curb-weight\",\n",
    "               \"engine-type\",\n",
    "               \"num-of-cylinders\", \"engine-size\", \"fuel-system\", \"bore\", \"stroke\", \"compression-ratio\", \"horsepower\",\n",
    "               \"peak-rpm\", \"city-mpg\", \"highway-mpg\", \"price\"]\n",
    "\n",
    "    # We add the headers to the table to make it readable.\n",
    "    data.columns = headers\n",
    "\n",
    "    # We can see that there are 26 columns. This means that we need to delete them. And use only the columns we have been assigned.\n",
    "    # So in other words we are dropping the columns using the panda drop command function.\n",
    "    data = data.drop(columns=[\"symboling\", \"normalized-losses\", \"make\", \"fuel-type\", \"aspiration\",\"num-of-doors\", \"body-style\", \"drive-wheels\", \"engine-location\",\"engine-type\", \"num-of-cylinders\", \"fuel-system\"])\n",
    "\n",
    "    # We now proceed to reformat the dataset by first turning all the '?' into 'NaN'\n",
    "    data[\"price\"] = pd.to_numeric(data[\"price\"], errors='coerce')\n",
    "    data[\"bore\"] = pd.to_numeric(data[\"bore\"], errors='coerce')\n",
    "    data[\"stroke\"] = pd.to_numeric(data[\"stroke\"], errors='coerce')\n",
    "    data[\"compression-ratio\"] = pd.to_numeric(data[\"compression-ratio\"], errors='coerce')\n",
    "    data[\"horsepower\"] = pd.to_numeric(data[\"horsepower\"], errors='coerce')\n",
    "    data[\"peak-rpm\"] = pd.to_numeric(data[\"peak-rpm\"], errors='coerce')\n",
    "    # We then proceed to drop the NaN\n",
    "    data = data.dropna(subset=[\"price\"], axis=0)\n",
    "    # data = data.dropna(subset=[\"bore\"], axis= 0)\n",
    "    data = data.dropna()\n",
    "\n",
    "    # Make a copy of the model\n",
    "    Model = data.copy()\n",
    "    return Model\n"
   ]
  },
  {
   "cell_type": "markdown",
   "metadata": {},
   "source": [
    "## Problem 1\n",
    "\n",
    "Continuing with the 13 continous predictor variables from the Automobile Data Set from the UCI Machine Learning Respository that you used in Homework #2 to predict a car's price from its characteristics, you are going to further explore the 3 models you proposed in problem 2(a) in Homework #2.\n"
   ]
  },
  {
   "cell_type": "markdown",
   "metadata": {},
   "source": [
    "### Part A"
   ]
  },
  {
   "cell_type": "markdown",
   "metadata": {},
   "source": [
    "The first model I propose is a sort of null model. Basically a model running all of the 13 features. With this model I can establish a baseline to compare the performance of models with smaller features.\n",
    "\n",
    "price = wheel-base + length + width + height + curb-weight + engine-size + bore + stroke + compression-ratio + horsepower + peak-rpm + city-mpg + highway-mpg\n"
   ]
  },
  {
   "cell_type": "code",
   "execution_count": 65,
   "metadata": {},
   "outputs": [
    {
     "name": "stdout",
     "output_type": "stream",
     "text": [
      "Shape of X: (195, 13)\n"
     ]
    },
    {
     "ename": "ValueError",
     "evalue": "Input contains NaN, infinity or a value too large for dtype('float32').",
     "output_type": "error",
     "traceback": [
      "\u001b[0;31m---------------------------------------------------------------------------\u001b[0m",
      "\u001b[0;31mValueError\u001b[0m                                Traceback (most recent call last)",
      "\u001b[0;32m<ipython-input-65-2e2d6b7ab566>\u001b[0m in \u001b[0;36m<module>\u001b[0;34m\u001b[0m\n\u001b[1;32m     62\u001b[0m \u001b[0;34m\u001b[0m\u001b[0m\n\u001b[1;32m     63\u001b[0m         \u001b[0;31m## Now I can calculate the MSE using Scikit Learning\u001b[0m\u001b[0;34m\u001b[0m\u001b[0;34m\u001b[0m\u001b[0;34m\u001b[0m\u001b[0m\n\u001b[0;32m---> 64\u001b[0;31m         \u001b[0mMSE\u001b[0m \u001b[0;34m=\u001b[0m \u001b[0mmean_squared_error\u001b[0m\u001b[0;34m(\u001b[0m\u001b[0mY_test_tensor\u001b[0m\u001b[0;34m,\u001b[0m \u001b[0my_hat\u001b[0m\u001b[0;34m)\u001b[0m\u001b[0;34m\u001b[0m\u001b[0;34m\u001b[0m\u001b[0m\n\u001b[0m\u001b[1;32m     65\u001b[0m         \u001b[0mMSE_List\u001b[0m\u001b[0;34m.\u001b[0m\u001b[0mappend\u001b[0m\u001b[0;34m(\u001b[0m\u001b[0mMSE\u001b[0m\u001b[0;34m)\u001b[0m\u001b[0;34m\u001b[0m\u001b[0;34m\u001b[0m\u001b[0m\n\u001b[1;32m     66\u001b[0m \u001b[0;34m\u001b[0m\u001b[0m\n",
      "\u001b[0;32m~/anaconda3/envs/AI/lib/python3.7/site-packages/sklearn/metrics/regression.py\u001b[0m in \u001b[0;36mmean_squared_error\u001b[0;34m(y_true, y_pred, sample_weight, multioutput)\u001b[0m\n\u001b[1;32m    239\u001b[0m     \"\"\"\n\u001b[1;32m    240\u001b[0m     y_type, y_true, y_pred, multioutput = _check_reg_targets(\n\u001b[0;32m--> 241\u001b[0;31m         y_true, y_pred, multioutput)\n\u001b[0m\u001b[1;32m    242\u001b[0m     \u001b[0mcheck_consistent_length\u001b[0m\u001b[0;34m(\u001b[0m\u001b[0my_true\u001b[0m\u001b[0;34m,\u001b[0m \u001b[0my_pred\u001b[0m\u001b[0;34m,\u001b[0m \u001b[0msample_weight\u001b[0m\u001b[0;34m)\u001b[0m\u001b[0;34m\u001b[0m\u001b[0;34m\u001b[0m\u001b[0m\n\u001b[1;32m    243\u001b[0m     output_errors = np.average((y_true - y_pred) ** 2, axis=0,\n",
      "\u001b[0;32m~/anaconda3/envs/AI/lib/python3.7/site-packages/sklearn/metrics/regression.py\u001b[0m in \u001b[0;36m_check_reg_targets\u001b[0;34m(y_true, y_pred, multioutput)\u001b[0m\n\u001b[1;32m     77\u001b[0m     \u001b[0mcheck_consistent_length\u001b[0m\u001b[0;34m(\u001b[0m\u001b[0my_true\u001b[0m\u001b[0;34m,\u001b[0m \u001b[0my_pred\u001b[0m\u001b[0;34m)\u001b[0m\u001b[0;34m\u001b[0m\u001b[0;34m\u001b[0m\u001b[0m\n\u001b[1;32m     78\u001b[0m     \u001b[0my_true\u001b[0m \u001b[0;34m=\u001b[0m \u001b[0mcheck_array\u001b[0m\u001b[0;34m(\u001b[0m\u001b[0my_true\u001b[0m\u001b[0;34m,\u001b[0m \u001b[0mensure_2d\u001b[0m\u001b[0;34m=\u001b[0m\u001b[0;32mFalse\u001b[0m\u001b[0;34m)\u001b[0m\u001b[0;34m\u001b[0m\u001b[0;34m\u001b[0m\u001b[0m\n\u001b[0;32m---> 79\u001b[0;31m     \u001b[0my_pred\u001b[0m \u001b[0;34m=\u001b[0m \u001b[0mcheck_array\u001b[0m\u001b[0;34m(\u001b[0m\u001b[0my_pred\u001b[0m\u001b[0;34m,\u001b[0m \u001b[0mensure_2d\u001b[0m\u001b[0;34m=\u001b[0m\u001b[0;32mFalse\u001b[0m\u001b[0;34m)\u001b[0m\u001b[0;34m\u001b[0m\u001b[0;34m\u001b[0m\u001b[0m\n\u001b[0m\u001b[1;32m     80\u001b[0m \u001b[0;34m\u001b[0m\u001b[0m\n\u001b[1;32m     81\u001b[0m     \u001b[0;32mif\u001b[0m \u001b[0my_true\u001b[0m\u001b[0;34m.\u001b[0m\u001b[0mndim\u001b[0m \u001b[0;34m==\u001b[0m \u001b[0;36m1\u001b[0m\u001b[0;34m:\u001b[0m\u001b[0;34m\u001b[0m\u001b[0;34m\u001b[0m\u001b[0m\n",
      "\u001b[0;32m~/anaconda3/envs/AI/lib/python3.7/site-packages/sklearn/utils/validation.py\u001b[0m in \u001b[0;36mcheck_array\u001b[0;34m(array, accept_sparse, accept_large_sparse, dtype, order, copy, force_all_finite, ensure_2d, allow_nd, ensure_min_samples, ensure_min_features, warn_on_dtype, estimator)\u001b[0m\n\u001b[1;32m    540\u001b[0m         \u001b[0;32mif\u001b[0m \u001b[0mforce_all_finite\u001b[0m\u001b[0;34m:\u001b[0m\u001b[0;34m\u001b[0m\u001b[0;34m\u001b[0m\u001b[0m\n\u001b[1;32m    541\u001b[0m             _assert_all_finite(array,\n\u001b[0;32m--> 542\u001b[0;31m                                allow_nan=force_all_finite == 'allow-nan')\n\u001b[0m\u001b[1;32m    543\u001b[0m \u001b[0;34m\u001b[0m\u001b[0m\n\u001b[1;32m    544\u001b[0m     \u001b[0;32mif\u001b[0m \u001b[0mensure_min_samples\u001b[0m \u001b[0;34m>\u001b[0m \u001b[0;36m0\u001b[0m\u001b[0;34m:\u001b[0m\u001b[0;34m\u001b[0m\u001b[0;34m\u001b[0m\u001b[0m\n",
      "\u001b[0;32m~/anaconda3/envs/AI/lib/python3.7/site-packages/sklearn/utils/validation.py\u001b[0m in \u001b[0;36m_assert_all_finite\u001b[0;34m(X, allow_nan)\u001b[0m\n\u001b[1;32m     54\u001b[0m                 not allow_nan and not np.isfinite(X).all()):\n\u001b[1;32m     55\u001b[0m             \u001b[0mtype_err\u001b[0m \u001b[0;34m=\u001b[0m \u001b[0;34m'infinity'\u001b[0m \u001b[0;32mif\u001b[0m \u001b[0mallow_nan\u001b[0m \u001b[0;32melse\u001b[0m \u001b[0;34m'NaN, infinity'\u001b[0m\u001b[0;34m\u001b[0m\u001b[0;34m\u001b[0m\u001b[0m\n\u001b[0;32m---> 56\u001b[0;31m             \u001b[0;32mraise\u001b[0m \u001b[0mValueError\u001b[0m\u001b[0;34m(\u001b[0m\u001b[0mmsg_err\u001b[0m\u001b[0;34m.\u001b[0m\u001b[0mformat\u001b[0m\u001b[0;34m(\u001b[0m\u001b[0mtype_err\u001b[0m\u001b[0;34m,\u001b[0m \u001b[0mX\u001b[0m\u001b[0;34m.\u001b[0m\u001b[0mdtype\u001b[0m\u001b[0;34m)\u001b[0m\u001b[0;34m)\u001b[0m\u001b[0;34m\u001b[0m\u001b[0;34m\u001b[0m\u001b[0m\n\u001b[0m\u001b[1;32m     57\u001b[0m     \u001b[0;31m# for object dtype data, we only check for NaNs (GH-13254)\u001b[0m\u001b[0;34m\u001b[0m\u001b[0;34m\u001b[0m\u001b[0;34m\u001b[0m\u001b[0m\n\u001b[1;32m     58\u001b[0m     \u001b[0;32melif\u001b[0m \u001b[0mX\u001b[0m\u001b[0;34m.\u001b[0m\u001b[0mdtype\u001b[0m \u001b[0;34m==\u001b[0m \u001b[0mnp\u001b[0m\u001b[0;34m.\u001b[0m\u001b[0mdtype\u001b[0m\u001b[0;34m(\u001b[0m\u001b[0;34m'object'\u001b[0m\u001b[0;34m)\u001b[0m \u001b[0;32mand\u001b[0m \u001b[0;32mnot\u001b[0m \u001b[0mallow_nan\u001b[0m\u001b[0;34m:\u001b[0m\u001b[0;34m\u001b[0m\u001b[0;34m\u001b[0m\u001b[0m\n",
      "\u001b[0;31mValueError\u001b[0m: Input contains NaN, infinity or a value too large for dtype('float32')."
     ]
    }
   ],
   "source": [
    "# We first set a new dataframe\n",
    "Model = read_data()\n",
    "\n",
    "# Create the X Variables in our model\n",
    "#X = Model[[\"wheel-base\", \"length\", \"width\", \"height\", \"curb-weight\",\"engine-size\", \"bore\", \"stroke\",\n",
    " #          \"compression-ratio\", \"horsepower\", \"peak-rpm\", \"city-mpg\", \"highway-mpg\"]]\n",
    "\n",
    "X = Model[[\"wheel-base\", \"length\", \"width\", \"height\", \"curb-weight\", \"engine-size\", \"bore\", \"stroke\",\n",
    "          \"compression-ratio\", \"horsepower\", \"peak-rpm\", \"city-mpg\", \"highway-mpg\"]]    \n",
    "print(\"Shape of X:\",X.shape)\n",
    "\n",
    "# Create the Y Variable in our model\n",
    "Y = Model[\"price\"]\n",
    "\n",
    "# Set Up The K-Folds\n",
    "K = 10\n",
    "kf = KFold(n_splits=10, shuffle=True)\n",
    "\n",
    "MSE_List = []\n",
    "for i in range(3):\n",
    "    for train_index, test_index in kf.split(X):\n",
    "        # Split the Dataset\n",
    "        x_train, x_test = X.iloc[train_index], X.iloc[test_index]\n",
    "        y_train, y_test = Y.iloc[train_index], Y.iloc[test_index]\n",
    "        # Set Up Linear Regression Model\n",
    "        \n",
    "\n",
    "        ## Now I can calculate the MSE using Scikit Learning\n",
    "        MSE = mean_squared_error(Y_test_tensor, y_hat)\n",
    "        MSE_List.append(MSE)\n",
    "\n",
    "print(MSE_List)"
   ]
  },
  {
   "cell_type": "code",
   "execution_count": null,
   "metadata": {},
   "outputs": [],
   "source": []
  },
  {
   "cell_type": "code",
   "execution_count": null,
   "metadata": {},
   "outputs": [],
   "source": []
  },
  {
   "cell_type": "markdown",
   "metadata": {},
   "source": [
    "### Part B"
   ]
  },
  {
   "cell_type": "markdown",
   "metadata": {},
   "source": [
    "### Part C"
   ]
  },
  {
   "cell_type": "markdown",
   "metadata": {},
   "source": [
    "## Problem 2"
   ]
  },
  {
   "cell_type": "markdown",
   "metadata": {},
   "source": [
    "### Part A"
   ]
  },
  {
   "cell_type": "markdown",
   "metadata": {},
   "source": [
    "The first model I propose is a sort of null model. Basically a model running all of the 13 features. With this model I can establish a baseline to compare the performance of models with smaller features.\n",
    "\n",
    "price = wheel-base + length + width + height + curb-weight + engine-size + bore + stroke + compression-ratio + horsepower + peak-rpm + city-mpg + highway-mpg"
   ]
  },
  {
   "cell_type": "code",
   "execution_count": 46,
   "metadata": {},
   "outputs": [
    {
     "name": "stdout",
     "output_type": "stream",
     "text": [
      "Shape of X: (195, 13)\n",
      "[62880594.81612865, 90433716.54150268, 161720031.67088223, 98030043.98799485, 74729496.67195877, 75996663.0060849, 81774732.57827486, 107704509.97239442, 50552366.72964641, 42968660.47549667, 186126201.86420456, 62106140.057438746, 79243215.15514083, 34063211.34233005, 126614112.41477732, 45783783.82462186, 118654982.46048993, 58640784.159912184, 119404819.9429537, 27103236.989394415, 131859368.76835613, 138171450.45820045, 114656266.6855547, 87951597.66016363, 34876960.72619096, 84133867.60150465, 61704370.93756913, 71740357.16944756, 59857193.746305704, 53947628.60479059]\n"
     ]
    }
   ],
   "source": [
    "# We first set a new dataframe\n",
    "Model = read_data()\n",
    "\n",
    "# Create the X Variables in our model\n",
    "#X = Model[[\"wheel-base\", \"length\", \"width\", \"height\", \"curb-weight\",\"engine-size\", \"bore\", \"stroke\",\n",
    " #          \"compression-ratio\", \"horsepower\", \"peak-rpm\", \"city-mpg\", \"highway-mpg\"]]\n",
    "\n",
    "X = Model[[\"wheel-base\", \"length\", \"width\", \"height\", \"curb-weight\", \"engine-size\", \"bore\", \"stroke\",\n",
    "          \"compression-ratio\", \"horsepower\", \"peak-rpm\", \"city-mpg\", \"highway-mpg\"]]    \n",
    "print(\"Shape of X:\",X.shape)\n",
    "\n",
    "# Create the Y Variable in our model\n",
    "Y = Model[\"price\"]\n",
    "\n",
    "# Set Up The K-Folds\n",
    "K = 10\n",
    "kf = KFold(n_splits=10, shuffle=True)\n",
    "\n",
    "MSE_List = []\n",
    "for i in range(3):\n",
    "    for train_index, test_index in kf.split(X):\n",
    "        # Split the Dataset\n",
    "        x_train, x_test = X.iloc[train_index], X.iloc[test_index]\n",
    "        y_train, y_test = Y.iloc[train_index], Y.iloc[test_index]\n",
    "        # Turn values into tensors\n",
    "        X_train_tensor = torch.tensor(x_train.values)\n",
    "        X_test_tensor = torch.tensor(x_test.values)\n",
    "        Y_train_tensor = torch.tensor(y_train.values).reshape(-1, 1)\n",
    "        Y_test_tensor = torch.tensor(y_test.values).reshape(-1,1)\n",
    "\n",
    "        # Set up the Model\n",
    "        Num_Features = X.shape[1]  # takes variable 'x'\n",
    "        outputDim = 1  # takes variable 'y'\n",
    "        learningRate = 0.001\n",
    "        epochs = 400\n",
    "\n",
    "        model = linearRegression(Num_Features)\n",
    "        criterion = torch.nn.L1Loss()\n",
    "        optimizer = torch.optim.SGD(model.parameters(), lr=learningRate)\n",
    "\n",
    "        # Run through the model\n",
    "        for j in range(epochs):\n",
    "            # Clear Gradients\n",
    "            optimizer.zero_grad()\n",
    "            # Run Model\n",
    "            outputs = model.forward(X_train_tensor.float())\n",
    "            # Get Lost for Predicted Output\n",
    "            loss = criterion(outputs, Y_train_tensor.float())\n",
    "            # Backward Propogation\n",
    "            loss.backward()\n",
    "            # Update Parameters\n",
    "            optimizer.step()\n",
    "\n",
    "        # Test Prediction of the Model\n",
    "        optimizer.zero_grad()\n",
    "        y_hat = model(X_test_tensor.float())\n",
    "\n",
    "        # Calculate MSE\n",
    "        ## Convert to Numpy\n",
    "        y_hat = y_hat.detach().numpy()\n",
    "        Y_test_tensor = Y_test_tensor.numpy()\n",
    "\n",
    "        ## Now I can calculate the MSE using Scikit Learning\n",
    "        MSE = mean_squared_error(Y_test_tensor, y_hat)\n",
    "        MSE_List.append(MSE)\n",
    "\n",
    "print(MSE_List)"
   ]
  },
  {
   "cell_type": "markdown",
   "metadata": {
    "heading_collapsed": true
   },
   "source": [
    "#### Part i\n",
    "\n",
    "Plot a kernel density estimate for the mean square error (MSE) for this model. (Each fold yields an estimate of MSE; find the kernel density estimate using the 30 samples of MSE)"
   ]
  },
  {
   "cell_type": "code",
   "execution_count": 47,
   "metadata": {
    "hidden": true
   },
   "outputs": [
    {
     "name": "stdout",
     "output_type": "stream",
     "text": [
      "Length of MSE: 30\n"
     ]
    },
    {
     "data": {
      "text/plain": [
       "Text(0.5, 1.0, 'KDE Plot of Model 1')"
      ]
     },
     "execution_count": 47,
     "metadata": {},
     "output_type": "execute_result"
    },
    {
     "data": {
      "image/png": "[encoded data removed]",
      "text/plain": [
       "<Figure size 432x288 with 1 Axes>"
      ]
     },
     "metadata": {
      "needs_background": "light"
     },
     "output_type": "display_data"
    }
   ],
   "source": [
    "# Make sure MSE List is 30\n",
    "print(\"Length of MSE:\", len(MSE_List))\n",
    "\n",
    "# Plot KDE of MSE\n",
    "sns.distplot(MSE_List, kde=True, rug=True)\n",
    "plt.title(\"KDE Plot of Model 1\")"
   ]
  },
  {
   "cell_type": "markdown",
   "metadata": {},
   "source": [
    "#### Part ii\n",
    "\n",
    "What is E[MSE] for this model?"
   ]
  },
  {
   "cell_type": "code",
   "execution_count": 48,
   "metadata": {},
   "outputs": [
    {
     "name": "stdout",
     "output_type": "stream",
     "text": [
      "Expected Average: 84781012.23399039\n"
     ]
    }
   ],
   "source": [
    "# Expected Value of the MSE\n",
    "Expected_Value = np.average(MSE_List)\n",
    "print(\"Expected Average:\", Expected_Value)"
   ]
  },
  {
   "cell_type": "markdown",
   "metadata": {},
   "source": [
    "#### Part iii\n",
    "\n",
    "Compute the variance for this model? "
   ]
  },
  {
   "cell_type": "code",
   "execution_count": 49,
   "metadata": {},
   "outputs": [
    {
     "name": "stdout",
     "output_type": "stream",
     "text": [
      "Variance: 1466306021314122.5\n"
     ]
    }
   ],
   "source": [
    "# Calculate Expected Variance \n",
    "Variance = np.var(MSE_List)\n",
    "print(\"Variance:\", Variance)"
   ]
  },
  {
   "cell_type": "markdown",
   "metadata": {},
   "source": [
    "#### Part iv\n",
    "Find the (bias)^2 + noise variance for this model, assuming E[MSE] is a good approximation for MSE. "
   ]
  },
  {
   "cell_type": "code",
   "execution_count": 50,
   "metadata": {},
   "outputs": [
    {
     "name": "stdout",
     "output_type": "stream",
     "text": [
      "Bias^2 + Noise Variance: -1466305936533110.2\n"
     ]
    }
   ],
   "source": [
    "# Calculate Using the Formula\n",
    "bias_squared_noise_variance = Expected_Value - Variance\n",
    "print(\"Bias^2 + Noise Variance:\", bias_squared_noise_variance)"
   ]
  },
  {
   "cell_type": "markdown",
   "metadata": {},
   "source": [
    "### Part B"
   ]
  },
  {
   "cell_type": "markdown",
   "metadata": {},
   "source": [
    "The second model would be the least feature model. Meaning that for this model I would try to use the least amount of features. The features chosen are comming directly from correlation. So this model is at the very low range of the spectrum. And I am dropping features that did not show any correlation with price or anything else in the previous exercises.\n",
    "\n",
    "price = curb-weight + horsepower + city-mpg"
   ]
  },
  {
   "cell_type": "code",
   "execution_count": 51,
   "metadata": {},
   "outputs": [
    {
     "name": "stdout",
     "output_type": "stream",
     "text": [
      "[50898085.979902506, 41502023.085931644, 43852712.48071275, 25043864.887864314, 94963270.70589454, 29172710.151345078, 75691550.592696, 36109491.530617125, 11367323.187322265, 17155957.670813963, 71166932.4860775, 49089087.68785, 40331242.46019094, 67051651.76365062, 70841963.28165475, 20693793.170721255, 36234385.1086587, 25903341.63258869, 9965658.268790985, 38027536.248786524, 64430744.87004213, 6400331.287399113, 40610952.99327089, 38464189.41428609, 45754632.01104586, 76717586.36385398, 36243086.38343565, 26299236.6311123, 48521388.7119746, 32365003.63327389]\n"
     ]
    }
   ],
   "source": [
    "# We first set a new dataframe\n",
    "Model = read_data()\n",
    "\n",
    "# Create the X Variables in our model\n",
    "X = Model[[\"curb-weight\", \"horsepower\", \"city-mpg\"]]\n",
    "\n",
    "# Create the Y Variable in our model\n",
    "Y = Model[\"price\"]\n",
    "\n",
    "# Set Up The K-Folds\n",
    "K = 10\n",
    "kf = KFold(n_splits=10, shuffle=True)\n",
    "\n",
    "MSE_List = []\n",
    "for i in range(3):\n",
    "    for train_index, test_index in kf.split(X):\n",
    "        # Split the Dataset\n",
    "        x_train, x_test = X.iloc[train_index], X.iloc[test_index]\n",
    "        y_train, y_test = Y.iloc[train_index], Y.iloc[test_index]\n",
    "        # Turn values into tensors\n",
    "        X_train_tensor = torch.tensor(x_train.values)\n",
    "        X_test_tensor = torch.tensor(x_test.values)\n",
    "        Y_train_tensor = torch.tensor(y_train.values).reshape(-1, 1)\n",
    "        Y_test_tensor = torch.tensor(y_test.values).reshape(-1,1)\n",
    "\n",
    "        # Set up the Model\n",
    "        Num_Features = 3  # takes variable 'x'\n",
    "        outputDim = 1  # takes variable 'y'\n",
    "        learningRate = 0.001\n",
    "        epochs = 400\n",
    "\n",
    "        model = linearRegression(Num_Features)\n",
    "        criterion = torch.nn.L1Loss()\n",
    "        optimizer = torch.optim.SGD(model.parameters(), lr=learningRate)\n",
    "\n",
    "        # Run through the model\n",
    "        for j in range(epochs):\n",
    "            # Clear Gradients\n",
    "            optimizer.zero_grad()\n",
    "            # Run Model\n",
    "            outputs = model.forward(X_train_tensor.float())\n",
    "            # Get Lost for Predicted Output\n",
    "            loss = criterion(outputs, Y_train_tensor.float())\n",
    "            # Backward Propogation\n",
    "            loss.backward()\n",
    "            # Update Parameters\n",
    "            optimizer.step()\n",
    "\n",
    "        # Test Prediction of the Model\n",
    "        optimizer.zero_grad()\n",
    "        y_hat = model(X_test_tensor.float())\n",
    "\n",
    "        # Calculate MSE\n",
    "        ## Convert to Numpy\n",
    "        y_hat = y_hat.detach().numpy()\n",
    "        Y_test_tensor = Y_test_tensor.numpy()\n",
    "\n",
    "        ## Now I can calculate the MSE using Scikit Learning\n",
    "        MSE = mean_squared_error(Y_test_tensor, y_hat)\n",
    "        MSE_List.append(MSE)\n",
    "\n",
    "print(MSE_List)"
   ]
  },
  {
   "cell_type": "markdown",
   "metadata": {},
   "source": [
    "#### Part i\n",
    "Plot a kernel density estimate for the mean square error (MSE) for this model. (Each fold yields an estimate of MSE; find the kernel density estimate using the 30 samples of MSE)"
   ]
  },
  {
   "cell_type": "code",
   "execution_count": 52,
   "metadata": {},
   "outputs": [
    {
     "name": "stdout",
     "output_type": "stream",
     "text": [
      "Length of MSE: 30\n"
     ]
    },
    {
     "data": {
      "text/plain": [
       "Text(0.5, 1.0, 'KDE Plot of Model 1')"
      ]
     },
     "execution_count": 52,
     "metadata": {},
     "output_type": "execute_result"
    },
    {
     "data": {
      "image/png": "[encoded data removed]",
      "text/plain": [
       "<Figure size 432x288 with 1 Axes>"
      ]
     },
     "metadata": {
      "needs_background": "light"
     },
     "output_type": "display_data"
    }
   ],
   "source": [
    "# Make sure MSE List is 30\n",
    "print(\"Length of MSE:\", len(MSE_List))\n",
    "\n",
    "# Plot KDE of MSE\n",
    "sns.distplot(MSE_List, kde=True, rug=True)\n",
    "plt.title(\"KDE Plot of Model 2\")"
   ]
  },
  {
   "cell_type": "markdown",
   "metadata": {},
   "source": [
    "#### Part ii\n",
    "What is E[MSE] for this model?"
   ]
  },
  {
   "cell_type": "code",
   "execution_count": 53,
   "metadata": {},
   "outputs": [
    {
     "name": "stdout",
     "output_type": "stream",
     "text": [
      "Expected Average: 42362324.489392154\n"
     ]
    }
   ],
   "source": [
    "# Expected Value of the MSE\n",
    "Expected_Value = np.average(MSE_List)\n",
    "print(\"Expected Average:\", Expected_Value)"
   ]
  },
  {
   "cell_type": "markdown",
   "metadata": {},
   "source": [
    "#### Part iii\n",
    "Compute the variance for this model? "
   ]
  },
  {
   "cell_type": "code",
   "execution_count": 54,
   "metadata": {},
   "outputs": [
    {
     "name": "stdout",
     "output_type": "stream",
     "text": [
      "Variance: 454409552222017.4\n"
     ]
    }
   ],
   "source": [
    "# Calculate Expected Variance \n",
    "Variance = np.var(MSE_List)\n",
    "print(\"Variance:\", Variance)"
   ]
  },
  {
   "cell_type": "markdown",
   "metadata": {},
   "source": [
    "#### Part iv\n",
    "Find the (bias)^2 + noise variance for this model, assuming E[MSE] is a good approximation for MSE. "
   ]
  },
  {
   "cell_type": "code",
   "execution_count": 55,
   "metadata": {},
   "outputs": [
    {
     "name": "stdout",
     "output_type": "stream",
     "text": [
      "Bias^2 + Noise Variance: -454409509859692.9\n"
     ]
    }
   ],
   "source": [
    "# Calculate Using the Formula\n",
    "bias_squared_noise_variance = Expected_Value - Variance\n",
    "print(\"Bias^2 + Noise Variance:\", bias_squared_noise_variance)"
   ]
  },
  {
   "cell_type": "markdown",
   "metadata": {},
   "source": [
    "### Part C"
   ]
  },
  {
   "cell_type": "markdown",
   "metadata": {},
   "source": [
    "The third model would be a more balanced model. I would try to drop some features but include a few more that were in the medium correlation levels. This should be a more balanced model that is probably closer to what Lasso or PCA would tell me to do.\n",
    "\n",
    "price = length + curb-weight + engine-size + horsepower + city-mpg + compression-ratio"
   ]
  },
  {
   "cell_type": "code",
   "execution_count": 58,
   "metadata": {},
   "outputs": [
    {
     "name": "stdout",
     "output_type": "stream",
     "text": [
      "Shape of X: (195, 6)\n",
      "[26515033.37757287, 44403656.21517376, 32539174.158147026, 76784061.66195627, 21195074.110623192, 48550562.25457844, 90341303.47658747, 40937684.834712595, 12924583.874978216, 15301970.515246391, 3918277.6666802643, 65246543.400420345, 9240877.300740313, 34369818.07316943, 68093235.07711315, 19137352.665424157, 65771340.89894301, 14462795.409909964, 25714028.383989234, 95885661.10615243, 63658143.4228168, 16531656.538605142, 87911157.76589975, 3319945.5904814242, 61915262.87101116, 19572922.169135507, 40226374.29127679, 13438098.554337552, 72052903.30905691, 25609638.084672403]\n"
     ]
    }
   ],
   "source": [
    "# We first set a new dataframe\n",
    "Model = read_data()\n",
    "\n",
    "# Create the X Variables in our model\n",
    "X = Model[[\"length\", \"curb-weight\", \"engine-size\", \"horsepower\", \"city-mpg\", \"compression-ratio\"]]\n",
    "print(\"Shape of X:\",X.shape)\n",
    "\n",
    "# Create the Y Variable in our model\n",
    "Y = Model[\"price\"]\n",
    "\n",
    "# Set Up The K-Folds\n",
    "K = 10\n",
    "kf = KFold(n_splits=10, shuffle=True)\n",
    "\n",
    "MSE_List = []\n",
    "for i in range(3):\n",
    "    for train_index, test_index in kf.split(X):\n",
    "        # Split the Dataset\n",
    "        x_train, x_test = X.iloc[train_index], X.iloc[test_index]\n",
    "        y_train, y_test = Y.iloc[train_index], Y.iloc[test_index]\n",
    "        # Turn values into tensors\n",
    "        X_train_tensor = torch.tensor(x_train.values)\n",
    "        X_test_tensor = torch.tensor(x_test.values)\n",
    "        Y_train_tensor = torch.tensor(y_train.values).reshape(-1, 1)\n",
    "        Y_test_tensor = torch.tensor(y_test.values).reshape(-1,1)\n",
    "\n",
    "        # Set up the Model\n",
    "        Num_Features = X.shape[1]  # takes variable 'x'\n",
    "        outputDim = 1  # takes variable 'y'\n",
    "        learningRate = 0.001\n",
    "        epochs = 400\n",
    "\n",
    "        model = linearRegression(Num_Features)\n",
    "        criterion = torch.nn.L1Loss()\n",
    "        optimizer = torch.optim.SGD(model.parameters(), lr=learningRate)\n",
    "\n",
    "        # Run through the model\n",
    "        for j in range(epochs):\n",
    "            # Clear Gradients\n",
    "            optimizer.zero_grad()\n",
    "            # Run Model\n",
    "            outputs = model.forward(X_train_tensor.float())\n",
    "            # Get Lost for Predicted Output\n",
    "            loss = criterion(outputs, Y_train_tensor.float())\n",
    "            # Backward Propogation\n",
    "            loss.backward()\n",
    "            # Update Parameters\n",
    "            optimizer.step()\n",
    "\n",
    "        # Test Prediction of the Model\n",
    "        optimizer.zero_grad()\n",
    "        y_hat = model(X_test_tensor.float())\n",
    "\n",
    "        # Calculate MSE\n",
    "        ## Convert to Numpy\n",
    "        y_hat = y_hat.detach().numpy()\n",
    "        Y_test_tensor = Y_test_tensor.numpy()\n",
    "\n",
    "        ## Now I can calculate the MSE using Scikit Learning\n",
    "        MSE = mean_squared_error(Y_test_tensor, y_hat)\n",
    "        MSE_List.append(MSE)\n",
    "\n",
    "print(MSE_List)"
   ]
  },
  {
   "cell_type": "markdown",
   "metadata": {},
   "source": [
    "#### Part i\n",
    "\n",
    "Plot a kernel density estimate for the mean square error (MSE) for this model. (Each fold yields an estimate of MSE; find the kernel density estimate using the 30 samples of MSE)"
   ]
  },
  {
   "cell_type": "code",
   "execution_count": 59,
   "metadata": {},
   "outputs": [
    {
     "name": "stdout",
     "output_type": "stream",
     "text": [
      "Length of MSE: 30\n"
     ]
    },
    {
     "data": {
      "text/plain": [
       "Text(0.5, 1.0, 'KDE Plot of Model 1')"
      ]
     },
     "execution_count": 59,
     "metadata": {},
     "output_type": "execute_result"
    },
    {
     "data": {
      "image/png": "[encoded data removed]",
      "text/plain": [
       "<Figure size 432x288 with 1 Axes>"
      ]
     },
     "metadata": {
      "needs_background": "light"
     },
     "output_type": "display_data"
    }
   ],
   "source": [
    "# Make sure MSE List is 30\n",
    "print(\"Length of MSE:\", len(MSE_List))\n",
    "\n",
    "# Plot KDE of MSE\n",
    "sns.distplot(MSE_List, kde=True, rug=True)\n",
    "plt.title(\"KDE Plot of Model 3\")"
   ]
  },
  {
   "cell_type": "markdown",
   "metadata": {},
   "source": [
    "#### Part ii\n",
    "\n",
    "What is E[MSE] for this model?"
   ]
  },
  {
   "cell_type": "code",
   "execution_count": 60,
   "metadata": {},
   "outputs": [
    {
     "name": "stdout",
     "output_type": "stream",
     "text": [
      "Expected Average: 40518971.235313736\n"
     ]
    }
   ],
   "source": [
    "# Expected Value of the MSE\n",
    "Expected_Value = np.average(MSE_List)\n",
    "print(\"Expected Average:\", Expected_Value)"
   ]
  },
  {
   "cell_type": "markdown",
   "metadata": {},
   "source": [
    "#### Part iii\n",
    "\n",
    "Compute the variance for this model? "
   ]
  },
  {
   "cell_type": "code",
   "execution_count": 61,
   "metadata": {},
   "outputs": [
    {
     "name": "stdout",
     "output_type": "stream",
     "text": [
      "Variance: 742699585832552.1\n"
     ]
    }
   ],
   "source": [
    "# Calculate Expected Variance \n",
    "Variance = np.var(MSE_List)\n",
    "print(\"Variance:\", Variance)"
   ]
  },
  {
   "cell_type": "markdown",
   "metadata": {},
   "source": [
    "#### Part iv\n",
    "\n",
    "Find the (bias)^2 + noise variance for this model, assuming E[MSE] is a good approximation for MSE. "
   ]
  },
  {
   "cell_type": "code",
   "execution_count": 63,
   "metadata": {},
   "outputs": [
    {
     "name": "stdout",
     "output_type": "stream",
     "text": [
      "Bias^2 + Noise Variance: -742699545313580.9\n"
     ]
    }
   ],
   "source": [
    "# Calculate Using the Formula\n",
    "bias_squared_noise_variance = Expected_Value - Variance\n",
    "print(\"Bias^2 + Noise Variance:\", bias_squared_noise_variance)"
   ]
  },
  {
   "cell_type": "code",
   "execution_count": null,
   "metadata": {},
   "outputs": [],
   "source": []
  }
 ],
 "metadata": {
  "kernelspec": {
   "display_name": "Python 3",
   "language": "python",
   "name": "python3"
  },
  "language_info": {
   "codemirror_mode": {
    "name": "ipython",
    "version": 3
   },
   "file_extension": ".py",
   "mimetype": "text/x-python",
   "name": "python",
   "nbconvert_exporter": "python",
   "pygments_lexer": "ipython3",
   "version": "3.7.4"
  },
  "toc": {
   "base_numbering": 1,
   "nav_menu": {},
   "number_sections": false,
   "sideBar": true,
   "skip_h1_title": true,
   "title_cell": "Table of Contents",
   "title_sidebar": "Contents",
   "toc_cell": false,
   "toc_position": {},
   "toc_section_display": true,
   "toc_window_display": true
  }
 },
 "nbformat": 4,
 "nbformat_minor": 2
}
